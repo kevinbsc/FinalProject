{
 "cells": [
  {
   "cell_type": "markdown",
   "metadata": {
    "collapsed": true
   },
   "source": [
    "# Twitter Analytics - iPhone X vs. Samsung Galaxy S9.\n",
    " ### By Doyle Ervin and Andrew Egelhof\n",
    " K-State MIS 670 Spring 2018"
   ]
  },
  {
   "cell_type": "markdown",
   "metadata": {},
   "source": [
    "## Introduction\n",
    "We decided to do our final project on two current leading smartphones, the Apple iPhone X and the Samsung Galaxy S9.  For this project we will be collecting data from twitter via their API.  We will collect tweets containing terms for both phones and then compare them for analysis, looking for similarities and differences and seeing what insights we can gain into users talking about them."
   ]
  },
  {
   "cell_type": "markdown",
   "metadata": {},
   "source": [
    "## Table of Contents\n",
    "\n",
    "#### [Business Questions](#BizQ)\n",
    "\n",
    "#### [Data Collection](#data_collect)\n",
    "#### [Language Frequency](#lang_freq)\n",
    "\n",
    "### [Section 1 - iPhone X](#sect_1)\n",
    "\n",
    "#### [iPhone Descriptive Analytics](#iphone_da)\n",
    "#### [iPhone Content Analytics using English Tweets](#iphone_ca)\n",
    "#### [iPhone Network Analysis](#iphone_na)\n",
    "\n",
    "\n",
    "\n",
    "\n",
    "\n",
    "\n",
    "### [Section 2 - Galaxy S9](#sect_2)\n",
    "\n",
    "#### [Galaxy S9 Process Tweets](#galaxy_pt)\n",
    "\n",
    "#### [Galaxy S9 Descriptive Analytics](#galaxy_da)\n",
    "#### [Galaxy S9 User Metrics](#galaxy_um)\n",
    "\n",
    "#### [Galaxy S9 Content Analytics](#galaxy_ca)\n",
    "\n",
    "#### [Galaxy S9 Network Analytics](#galaxy_na)\n",
    "\n",
    "### [Final Analysis](#Final_Analysis)\n",
    "\n",
    "\n",
    "<br>\n",
    "<br>\n"
   ]
  },
  {
   "cell_type": "markdown",
   "metadata": {},
   "source": [
    "<a id='BizQ'></a>\n",
    "## Business Questions\n",
    "\n",
    "* Do tweets about iPhone X and Samsung Galaxy S9 provide insight into differences between users of each? \n",
    "\n",
    "* Do tweets about iPhone X and Samsung Galaxy S9 provide insight into similarities between users of each?\n",
    "\n",
    "* Do descriptive analytics and content analytics between iPhone X and Samsung S9 provide insight into what sets iPhone X and Samsung phones and users apart?\n",
    "\n",
    "\n",
    "\n",
    "\n",
    "\n",
    "\n"
   ]
  },
  {
   "cell_type": "markdown",
   "metadata": {},
   "source": [
    "<a id='data_collect'></a>\n",
    "## Data Collection\n",
    "\n",
    "#### Data Source\n",
    "The data source for our analysis was the Twitter API using tweepy and a modified version of the streaming tweets script used in class.\n",
    "\n",
    "#### Data Collection Technique\n",
    "Data was collected on Iphone X and Galaxy S9 tweets using related hashtags and search terms in the streaming tweets script used in class.\n",
    "\n",
    "We used terms like 'galaxys9','samsungs9', '#GalaxyS9','Galaxy S9','#iPhoneX','iPhoneX', and 'iPhone X' in the script and ran it for approximately 24 hours until we collected approximately 38,000 tweets.\n",
    "\n",
    "The tweets were read into separate iPhone X or Samsung S9 lists for individual analysis.  The code to read the data for analysis is shown below. \n"
   ]
  },
  {
   "cell_type": "code",
   "execution_count": null,
   "metadata": {
    "collapsed": true
   },
   "outputs": [],
   "source": []
  },
  {
   "cell_type": "markdown",
   "metadata": {},
   "source": [
    "### Python Packages Used"
   ]
  },
  {
   "cell_type": "code",
   "execution_count": 11,
   "metadata": {
    "collapsed": true
   },
   "outputs": [],
   "source": [
    "import tweepy\n",
    "import csv\n",
    "import time\n",
    "import json\n",
    "import pandas as pd\n",
    "import re\n",
    "import numpy as np\n",
    "\n",
    "from collections import Counter\n",
    "from operator import itemgetter\n",
    "from itertools import combinations\n",
    "\n",
    "import nltk\n",
    "from nltk import word_tokenize\n",
    "from nltk.corpus import stopwords\n",
    "\n",
    "from pandas.io.json import json_normalize\n",
    "import ast\n",
    "\n",
    "import matplotlib.pyplot as plt\n",
    "%matplotlib inline\n",
    "\n",
    "# import other visualization package\n",
    "import seaborn as sns  #package for statistical data visualization\n",
    "\n",
    "# Import TextBlob for sentiment analysis\n",
    "from textblob import TextBlob\n",
    "from textblob import Word\n",
    "\n",
    "import json\n",
    "\n",
    "from IPython.display import HTML, display, Image"
   ]
  },
  {
   "cell_type": "code",
   "execution_count": 12,
   "metadata": {
    "collapsed": true
   },
   "outputs": [],
   "source": [
    "pd.options.display.max_columns = None\n",
    "pd.options.display.max_colwidth = 250\n",
    "pd.options.display.float_format = '{:,.4f}'.format"
   ]
  },
  {
   "cell_type": "markdown",
   "metadata": {},
   "source": [
    "#### Language Codes List"
   ]
  },
  {
   "cell_type": "code",
   "execution_count": 13,
   "metadata": {},
   "outputs": [],
   "source": [
    "#Language Codes Lookup List\n",
    "#pip install datapackage\n",
    "from datapackage import Package\n",
    "\n",
    "#package = Package('https://datahub.io/core/language-codes/datapackage.json')\n",
    "#I loaded datapackage.json locally\n",
    "package = Package('data/datapackage.json')\n",
    "\n",
    "# print list of all resources if needed:\n",
    "#print(package.resource_names)\n",
    "\n",
    "#Get language codes\n",
    "res=package.get_resource('language-codes')\n",
    "#res=package.get_resource('language-codes-full')\n",
    "langlists=res.table.read()\n",
    "\n",
    "# Use dict comprehension to allow lookup of language by code\n",
    "lang_codes={d[0]: d[1] for d in langlists}\n",
    "\n",
    "#Add some old non-standard codes\n",
    "lang_codes.update({'und': 'Undetermined','in': 'Indonesian','iw': 'Hebrew','ckb': 'Central Kurdish'})"
   ]
  },
  {
   "cell_type": "markdown",
   "metadata": {},
   "source": [
    "#### Now we can lookup actual language name by its code found in tweet metadata"
   ]
  },
  {
   "cell_type": "code",
   "execution_count": 14,
   "metadata": {},
   "outputs": [
    {
     "data": {
      "text/plain": [
       "u'Swedish'"
      ]
     },
     "execution_count": 14,
     "metadata": {},
     "output_type": "execute_result"
    }
   ],
   "source": [
    "# Test language code lookup\n",
    "lang_codes['sv']"
   ]
  },
  {
   "cell_type": "markdown",
   "metadata": {},
   "source": [
    "#### Read file and separate by iPhone X, Samsung S9, or both."
   ]
  },
  {
   "cell_type": "code",
   "execution_count": 15,
   "metadata": {},
   "outputs": [
    {
     "name": "stdout",
     "output_type": "stream",
     "text": [
      "701 tweets loaded related to both iPhoneX and Samsung S9\n",
      "8168 tweets loaded related to Samsung S9\n",
      "26458 tweets loaded related to iPhoneX\n"
     ]
    }
   ],
   "source": [
    "filename='data/IPhoneXSamsungS9.json'\n",
    "\n",
    "count_samsungs9=0\n",
    "count_iphonex=0\n",
    "count_both=0\n",
    "tweets_both = []\n",
    "tweets_samsungs9 = []\n",
    "tweets_iphone = []\n",
    "\n",
    "with open(filename, 'r') as f:\n",
    "    for line in f:\n",
    "        if ( ('galaxys9' in line.lower())|('samsungs9' in line.lower()) | ('galaxy s9' in line.lower())|\n",
    "            ('samsung s9' in line.lower())  ) & (('iphone x' in line.lower())|('iphonex' in line.lower()) ):\n",
    "            count_both = count_both+1\n",
    "            try:\n",
    "                # List of tweets with both iPhone X and Samsung S9\n",
    "                tweets_both.append(json.loads(line))\n",
    "            except:\n",
    "                pass\n",
    "        elif ( ('galaxys9' in line.lower())|('samsungs9' in line.lower()) | ('galaxy s9' in line.lower())|\n",
    "            ('samsung s9' in line.lower())  ):\n",
    "            count_samsungs9 = count_samsungs9+1\n",
    "            try:\n",
    "                # List of tweets with Samsung S9\n",
    "                tweets_samsungs9.append(json.loads(line))\n",
    "            except:\n",
    "                pass\n",
    "        elif (('iphone x' in line.lower())|('iphonex' in line.lower()) ) :\n",
    "            count_iphonex = count_iphonex+1\n",
    "            try:\n",
    "                # List of tweets with iPhone X\n",
    "                tweets_iphone.append(json.loads(line))\n",
    "            except:\n",
    "                pass\n",
    "            \n",
    "    f.close()\n",
    "print \"%s tweets loaded related to both iPhoneX and Samsung S9\" %(count_both)\n",
    "print \"%s tweets loaded related to Samsung S9\" %(count_samsungs9)\n",
    "print \"%s tweets loaded related to iPhoneX\" %(count_iphonex)\n",
    "\n"
   ]
  },
  {
   "cell_type": "markdown",
   "metadata": {},
   "source": [
    "#### Get languages for tweets"
   ]
  },
  {
   "cell_type": "code",
   "execution_count": 16,
   "metadata": {
    "collapsed": true
   },
   "outputs": [],
   "source": [
    "lang_both=[]\n",
    "lang_iphone=[]\n",
    "lang_samsungs9=[]\n",
    "\n",
    "for tweet in tweets_both:\n",
    "    #print tweet['lang']\n",
    "    lang_both.append(tweet['lang'])\n",
    "    \n",
    "for tweet in tweets_iphone:\n",
    "    #print tweet['lang']\n",
    "    lang_iphone.append(tweet['lang'])\n",
    "\n",
    "for tweet in tweets_samsungs9:\n",
    "#    #print tweet['lang']\n",
    "    lang_samsungs9.append(tweet['lang'])\n"
   ]
  },
  {
   "cell_type": "markdown",
   "metadata": {},
   "source": [
    "<a id='lang_freq'></a>\n",
    "### Language Frequency"
   ]
  },
  {
   "cell_type": "code",
   "execution_count": 17,
   "metadata": {
    "collapsed": true
   },
   "outputs": [],
   "source": [
    "\n",
    "#Count frequency of languages for tweets with both iPhone X and Samsung S9\n",
    "count_lang_both = Counter(lang_both)\n",
    "#print count_lang_both\n",
    "\n",
    "#Count frequency of languages for tweets with iPhone X\n",
    "count_lang_iphone = Counter(lang_iphone)\n",
    "#print count_lang_iphone\n",
    "\n",
    "#Count frequency of languages for tweets with Samsung S9\n",
    "count_lang_samsungs9 = Counter(lang_samsungs9)\n",
    "#print count_lang_samsungs9\n"
   ]
  },
  {
   "cell_type": "code",
   "execution_count": 18,
   "metadata": {
    "scrolled": false
   },
   "outputs": [
    {
     "name": "stdout",
     "output_type": "stream",
     "text": [
      "Number of languages in tweets containing both iPhone X and Samsung S9: 18\n"
     ]
    },
    {
     "data": {
      "text/html": [
       "<div>\n",
       "<style>\n",
       "    .dataframe thead tr:only-child th {\n",
       "        text-align: right;\n",
       "    }\n",
       "\n",
       "    .dataframe thead th {\n",
       "        text-align: left;\n",
       "    }\n",
       "\n",
       "    .dataframe tbody tr th {\n",
       "        vertical-align: top;\n",
       "    }\n",
       "</style>\n",
       "<table border=\"1\" class=\"dataframe\">\n",
       "  <thead>\n",
       "    <tr style=\"text-align: right;\">\n",
       "      <th></th>\n",
       "      <th>Language Code</th>\n",
       "      <th>Number Tweets</th>\n",
       "      <th>Language Name</th>\n",
       "    </tr>\n",
       "  </thead>\n",
       "  <tbody>\n",
       "    <tr>\n",
       "      <th>2</th>\n",
       "      <td>en</td>\n",
       "      <td>462</td>\n",
       "      <td>English</td>\n",
       "    </tr>\n",
       "    <tr>\n",
       "      <th>13</th>\n",
       "      <td>in</td>\n",
       "      <td>69</td>\n",
       "      <td>Indonesian</td>\n",
       "    </tr>\n",
       "    <tr>\n",
       "      <th>17</th>\n",
       "      <td>es</td>\n",
       "      <td>59</td>\n",
       "      <td>Spanish; Castilian</td>\n",
       "    </tr>\n",
       "    <tr>\n",
       "      <th>16</th>\n",
       "      <td>ja</td>\n",
       "      <td>31</td>\n",
       "      <td>Japanese</td>\n",
       "    </tr>\n",
       "    <tr>\n",
       "      <th>5</th>\n",
       "      <td>de</td>\n",
       "      <td>16</td>\n",
       "      <td>German</td>\n",
       "    </tr>\n",
       "  </tbody>\n",
       "</table>\n",
       "</div>"
      ],
      "text/plain": [
       "   Language Code  Number Tweets       Language Name\n",
       "2             en            462             English\n",
       "13            in             69          Indonesian\n",
       "17            es             59  Spanish; Castilian\n",
       "16            ja             31            Japanese\n",
       "5             de             16              German"
      ]
     },
     "execution_count": 18,
     "metadata": {},
     "output_type": "execute_result"
    }
   ],
   "source": [
    "#Language counts for Tweets with both iPhone X and Samsung S9\n",
    "count_lang_both.items()\n",
    "df_count_lang_both = pd.DataFrame(count_lang_both.items())\n",
    "df_count_lang_both.rename(columns = {0: 'Language Code',1:'Number Tweets'},inplace=True)\n",
    "df_count_lang_both['Language Name']=df_count_lang_both['Language Code'].apply(lambda x: lang_codes[x] )\n",
    "print \"Number of languages in tweets containing both iPhone X and Samsung S9: %s\" % len(df_count_lang_both)\n",
    "df_count_lang_both.sort_values(by='Number Tweets', ascending=False).head()"
   ]
  },
  {
   "cell_type": "code",
   "execution_count": 19,
   "metadata": {},
   "outputs": [
    {
     "data": {
      "image/png": "[encoded data removed]",
      "text/plain": [
       "<matplotlib.figure.Figure at 0x11ddbbe0>"
      ]
     },
     "metadata": {},
     "output_type": "display_data"
    }
   ],
   "source": [
    "plt.figure(figsize=(18, 6))\n",
    "ax=sns.barplot(x=\"Language Name\", y=\"Number Tweets\", data=df_count_lang_both.sort_values(by='Number Tweets', ascending=False))\n",
    "plt.ylabel('Number of Tweets (log)',fontsize=14)\n",
    "ax.set_yscale('log')\n",
    "ax.set_xticklabels(ax.get_xticklabels(),rotation=90,fontsize=12)\n",
    "plt.xlabel( 'Language',fontsize=14)\n",
    "plt.title('Number Tweets by Language for Tweets Containing Both iPhone X and Samsung S9',fontsize=16)\n",
    "for p in ax.patches:\n",
    "    height = p.get_height()\n",
    "    ax.text(p.get_x()+p.get_width()/2.,\n",
    "            height + 0,\n",
    "            '{:1.0f}'.format(height),\n",
    "            ha=\"center\",rotation=90) \n",
    "\n",
    "plt.show()\n"
   ]
  },
  {
   "cell_type": "code",
   "execution_count": 20,
   "metadata": {
    "scrolled": false
   },
   "outputs": [
    {
     "name": "stdout",
     "output_type": "stream",
     "text": [
      "Number of languages in tweets containing iPhone X: 49\n"
     ]
    },
    {
     "data": {
      "text/html": [
       "<div>\n",
       "<style>\n",
       "    .dataframe thead tr:only-child th {\n",
       "        text-align: right;\n",
       "    }\n",
       "\n",
       "    .dataframe thead th {\n",
       "        text-align: left;\n",
       "    }\n",
       "\n",
       "    .dataframe tbody tr th {\n",
       "        vertical-align: top;\n",
       "    }\n",
       "</style>\n",
       "<table border=\"1\" class=\"dataframe\">\n",
       "  <thead>\n",
       "    <tr style=\"text-align: right;\">\n",
       "      <th></th>\n",
       "      <th>Language Code</th>\n",
       "      <th>Number Tweets</th>\n",
       "      <th>Language Name</th>\n",
       "    </tr>\n",
       "  </thead>\n",
       "  <tbody>\n",
       "    <tr>\n",
       "      <th>1</th>\n",
       "      <td>en</td>\n",
       "      <td>12712</td>\n",
       "      <td>English</td>\n",
       "    </tr>\n",
       "    <tr>\n",
       "      <th>38</th>\n",
       "      <td>ja</td>\n",
       "      <td>5126</td>\n",
       "      <td>Japanese</td>\n",
       "    </tr>\n",
       "    <tr>\n",
       "      <th>22</th>\n",
       "      <td>tl</td>\n",
       "      <td>1796</td>\n",
       "      <td>Tagalog</td>\n",
       "    </tr>\n",
       "    <tr>\n",
       "      <th>17</th>\n",
       "      <td>pt</td>\n",
       "      <td>1619</td>\n",
       "      <td>Portuguese</td>\n",
       "    </tr>\n",
       "    <tr>\n",
       "      <th>14</th>\n",
       "      <td>es</td>\n",
       "      <td>1290</td>\n",
       "      <td>Spanish; Castilian</td>\n",
       "    </tr>\n",
       "  </tbody>\n",
       "</table>\n",
       "</div>"
      ],
      "text/plain": [
       "   Language Code  Number Tweets       Language Name\n",
       "1             en          12712             English\n",
       "38            ja           5126            Japanese\n",
       "22            tl           1796             Tagalog\n",
       "17            pt           1619          Portuguese\n",
       "14            es           1290  Spanish; Castilian"
      ]
     },
     "execution_count": 20,
     "metadata": {},
     "output_type": "execute_result"
    }
   ],
   "source": [
    "#Language counts for Tweets with iPhone X\n",
    "count_lang_iphone.items()\n",
    "df_count_lang_iphone = pd.DataFrame(count_lang_iphone.items())\n",
    "df_count_lang_iphone.rename(columns = {0: 'Language Code',1:'Number Tweets'},inplace=True)\n",
    "df_count_lang_iphone['Language Name']=df_count_lang_iphone['Language Code'].apply(lambda x: lang_codes[x] )\n",
    "print \"Number of languages in tweets containing iPhone X: %s\" % len(df_count_lang_iphone)\n",
    "df_count_lang_iphone.sort_values(by='Number Tweets', ascending=False).head()\n"
   ]
  },
  {
   "cell_type": "code",
   "execution_count": 21,
   "metadata": {},
   "outputs": [
    {
     "data": {
      "image/png": "[encoded data removed]",
      "text/plain": [
       "<matplotlib.figure.Figure at 0x83c45eb8>"
      ]
     },
     "metadata": {},
     "output_type": "display_data"
    }
   ],
   "source": [
    "plt.figure(figsize=(18, 6))\n",
    "ax=sns.barplot(x=\"Language Name\", y=\"Number Tweets\", data=df_count_lang_iphone.sort_values(by='Number Tweets', ascending=False))\n",
    "plt.ylabel('Number of Tweets (log)',fontsize=14)\n",
    "ax.set_yscale('log')\n",
    "ax.set_xticklabels(ax.get_xticklabels(),rotation=90,fontsize=12)\n",
    "plt.xlabel( 'Language',fontsize=14)\n",
    "plt.title('Number Tweets by Language for iPhone X',fontsize=16)\n",
    "for p in ax.patches:\n",
    "    height = p.get_height()\n",
    "    ax.text(p.get_x()+p.get_width()/2.,\n",
    "            height + 0,\n",
    "            '{:1.0f}'.format(height),\n",
    "            ha=\"center\",rotation=90) \n",
    "\n",
    "plt.show()\n"
   ]
  },
  {
   "cell_type": "code",
   "execution_count": 22,
   "metadata": {
    "scrolled": false
   },
   "outputs": [
    {
     "name": "stdout",
     "output_type": "stream",
     "text": [
      "Number of languages in tweets containing Samsung S9: 40\n"
     ]
    },
    {
     "data": {
      "text/html": [
       "<div>\n",
       "<style>\n",
       "    .dataframe thead tr:only-child th {\n",
       "        text-align: right;\n",
       "    }\n",
       "\n",
       "    .dataframe thead th {\n",
       "        text-align: left;\n",
       "    }\n",
       "\n",
       "    .dataframe tbody tr th {\n",
       "        vertical-align: top;\n",
       "    }\n",
       "</style>\n",
       "<table border=\"1\" class=\"dataframe\">\n",
       "  <thead>\n",
       "    <tr style=\"text-align: right;\">\n",
       "      <th></th>\n",
       "      <th>Language Code</th>\n",
       "      <th>Number Tweets</th>\n",
       "      <th>Language Name</th>\n",
       "    </tr>\n",
       "  </thead>\n",
       "  <tbody>\n",
       "    <tr>\n",
       "      <th>1</th>\n",
       "      <td>en</td>\n",
       "      <td>3663</td>\n",
       "      <td>English</td>\n",
       "    </tr>\n",
       "    <tr>\n",
       "      <th>15</th>\n",
       "      <td>pt</td>\n",
       "      <td>1470</td>\n",
       "      <td>Portuguese</td>\n",
       "    </tr>\n",
       "    <tr>\n",
       "      <th>25</th>\n",
       "      <td>fr</td>\n",
       "      <td>931</td>\n",
       "      <td>French</td>\n",
       "    </tr>\n",
       "    <tr>\n",
       "      <th>12</th>\n",
       "      <td>es</td>\n",
       "      <td>864</td>\n",
       "      <td>Spanish; Castilian</td>\n",
       "    </tr>\n",
       "    <tr>\n",
       "      <th>37</th>\n",
       "      <td>und</td>\n",
       "      <td>229</td>\n",
       "      <td>Undetermined</td>\n",
       "    </tr>\n",
       "  </tbody>\n",
       "</table>\n",
       "</div>"
      ],
      "text/plain": [
       "   Language Code  Number Tweets       Language Name\n",
       "1             en           3663             English\n",
       "15            pt           1470          Portuguese\n",
       "25            fr            931              French\n",
       "12            es            864  Spanish; Castilian\n",
       "37           und            229        Undetermined"
      ]
     },
     "execution_count": 22,
     "metadata": {},
     "output_type": "execute_result"
    }
   ],
   "source": [
    "#Language counts for Tweets with Samsung S9\n",
    "df_count_lang_samsungs9 = pd.DataFrame(count_lang_samsungs9.items())\n",
    "df_count_lang_samsungs9.rename(columns = {0: 'Language Code',1:'Number Tweets'},inplace=True)\n",
    "df_count_lang_samsungs9['Language Name']=df_count_lang_samsungs9['Language Code'].apply(lambda x: lang_codes[x] )\n",
    "print \"Number of languages in tweets containing Samsung S9: %s\" % len(df_count_lang_samsungs9)\n",
    "df_count_lang_samsungs9.sort_values(by='Number Tweets', ascending=False).head()\n"
   ]
  },
  {
   "cell_type": "code",
   "execution_count": 23,
   "metadata": {},
   "outputs": [
    {
     "data": {
      "image/png": "[encoded data removed]",
      "text/plain": [
       "<matplotlib.figure.Figure at 0x848d0828>"
      ]
     },
     "metadata": {},
     "output_type": "display_data"
    }
   ],
   "source": [
    "plt.figure(figsize=(18, 6))\n",
    "ax=sns.barplot(x=\"Language Name\", y=\"Number Tweets\", data=df_count_lang_samsungs9.sort_values(by='Number Tweets', ascending=False))\n",
    "plt.ylabel('Number of Tweets (log)',fontsize=14)\n",
    "ax.set_yscale('log')\n",
    "ax.set_xticklabels(ax.get_xticklabels(),rotation=90,fontsize=12)\n",
    "plt.xlabel( 'Language',fontsize=14)\n",
    "plt.title('Number Tweets by Language for Samsung S9',fontsize=16)\n",
    "for p in ax.patches:\n",
    "    height = p.get_height()\n",
    "    ax.text(p.get_x()+p.get_width()/2.,\n",
    "            height + 0,\n",
    "            '{:1.0f}'.format(height),\n",
    "            ha=\"center\",rotation=90) \n",
    "\n",
    "plt.show()\n"
   ]
  },
  {
   "cell_type": "code",
   "execution_count": 24,
   "metadata": {},
   "outputs": [
    {
     "name": "stdout",
     "output_type": "stream",
     "text": [
      "Number English tweets with both iPhone X and Galaxy S9: 482\n",
      "Number English tweets with just iPhone X: 15059\n",
      "Number English tweets with just Galaxy S9: 3844\n"
     ]
    }
   ],
   "source": [
    "tweets_both_en=[]\n",
    "for tweet in tweets_both:\n",
    "    if tweet['user']['lang']=='en':\n",
    "        tweets_both_en.append(tweet)\n",
    "        \n",
    "tweets_iphone_en=[]\n",
    "for tweet in tweets_iphone:\n",
    "    if tweet['user']['lang']=='en':\n",
    "        tweets_iphone_en.append(tweet)\n",
    "\n",
    "tweets_samsungs9_en=[]\n",
    "for tweet in tweets_samsungs9:\n",
    "    if tweet['user']['lang']=='en':\n",
    "        tweets_samsungs9_en.append(tweet)\n",
    "\n",
    "        \n",
    "print \"Number English tweets with both iPhone X and Galaxy S9: %s\" %len(tweets_both_en)\n",
    "print \"Number English tweets with just iPhone X: %s\" %len (tweets_iphone_en)\n",
    "print \"Number English tweets with just Galaxy S9: %s\" %len (tweets_samsungs9_en)\n",
    "\n"
   ]
  },
  {
   "cell_type": "markdown",
   "metadata": {
    "scrolled": true
   },
   "source": [
    "It appears that iPhone X and Samsung Galaxy S9 are popular in many languages since these products are available worldwide.  From the plots for each brand, it appears that English is the most popular language for each brand.  After English it appears that iPhone X is more popular within the Japanese, Tagalog(Phillipines), and Portuguese languages, but the Galaxy S9 is more popular with Portuguese, French and Spanish languages.\n",
    "\n",
    "The popularity of iPhone X with the Japanese language is a bit surprising, but Apple has 55.2% of the mobile market in Japan compared to Samsung's 44.8% (https://www.kantarworldpanel.com/global/smartphone-os-market-share/).\n",
    "\n",
    "Going forward, we will try to limit the scope of the analysis to English language tweets.\n",
    "\n"
   ]
  },
  {
   "cell_type": "code",
   "execution_count": null,
   "metadata": {
    "collapsed": true
   },
   "outputs": [],
   "source": []
  },
  {
   "cell_type": "markdown",
   "metadata": {},
   "source": [
    "<a id='sect_1'></a>\n",
    "# Section 1 - iPhone X"
   ]
  },
  {
   "cell_type": "markdown",
   "metadata": {},
   "source": [
    "<a id='iphone_da'></a>\n",
    "## iPhone Descriptive Analytics"
   ]
  },
  {
   "cell_type": "markdown",
   "metadata": {},
   "source": [
    "### Tweet Metrics:\n",
    "* Total Number of Tweets\n",
    "* Total Number of Unique Users\n",
    "* 10 Most Common Users\n",
    "* Orignal Tweets vs ReTweets\n",
    "* Avg. Metrics\n"
   ]
  },
  {
   "cell_type": "code",
   "execution_count": 25,
   "metadata": {},
   "outputs": [
    {
     "name": "stdout",
     "output_type": "stream",
     "text": [
      "Total Number of iPhone Tweets: 26458\n"
     ]
    }
   ],
   "source": [
    "#Number of Tweets\n",
    "print 'Total Number of iPhone Tweets: ' + str(len(tweets_iphone))"
   ]
  },
  {
   "cell_type": "code",
   "execution_count": 26,
   "metadata": {},
   "outputs": [
    {
     "name": "stdout",
     "output_type": "stream",
     "text": [
      "Print Number of unique users: 21541\n"
     ]
    }
   ],
   "source": [
    "#Number of Uniquer Users\n",
    "from collections import Counter\n",
    "\n",
    "iphone_screen_names = [T['user']['screen_name'] for T in tweets_iphone]\n",
    "\n",
    "iphone_users = Counter(iphone_screen_names)\n",
    "\n",
    "print 'Print Number of unique users: ' + str(len(iphone_users))"
   ]
  },
  {
   "cell_type": "code",
   "execution_count": 27,
   "metadata": {},
   "outputs": [
    {
     "data": {
      "text/plain": [
       "[(u'JustMrLoloN', 70),\n",
       " (u'PPP_isesaki', 54),\n",
       " (u'nanoed', 50),\n",
       " (u'iPhone8andx', 50),\n",
       " (u'perfect_cart', 45),\n",
       " (u'Vgadgetshow', 41),\n",
       " (u'Jonathanamorcit', 31),\n",
       " (u'smanavi_info', 31),\n",
       " (u'Minashopp_', 28),\n",
       " (u'Petrichorcases', 27)]"
      ]
     },
     "execution_count": 27,
     "metadata": {},
     "output_type": "execute_result"
    }
   ],
   "source": [
    "# top 10 most active tweeters\n",
    "iphone_users.most_common(10)"
   ]
  },
  {
   "cell_type": "code",
   "execution_count": 28,
   "metadata": {},
   "outputs": [
    {
     "name": "stdout",
     "output_type": "stream",
     "text": [
      "Number of original tweets: 10521\n",
      "Number of retweets: 15937\n"
     ]
    }
   ],
   "source": [
    "#orginal vs retweets \n",
    "iphone_originaltweets = []\n",
    "iphone_original_tweet_count = 0\n",
    "iphone_retweet_tweet_count = 0\n",
    "\n",
    "for tweet in tweets_iphone:\n",
    "    if 'rt @' not in tweet['text'].lower():\n",
    "        iphone_originaltweets.append(tweet)\n",
    "        iphone_original_tweet_count +=1\n",
    "    else:\n",
    "        iphone_retweet_tweet_count+=1\n",
    "        \n",
    "print \"Number of original tweets: \"+ str(iphone_original_tweet_count)\n",
    "print \"Number of retweets: \"+ str(iphone_retweet_tweet_count)"
   ]
  },
  {
   "cell_type": "code",
   "execution_count": 29,
   "metadata": {},
   "outputs": [
    {
     "name": "stdout",
     "output_type": "stream",
     "text": [
      "Number of Mentions: 22516\n"
     ]
    }
   ],
   "source": [
    "# of mentions\n",
    "iphone_user_mentions = []\n",
    "\n",
    "\n",
    "for tweet in tweets_iphone:\n",
    "    for mention in tweet['entities']['user_mentions']:\n",
    "        iphone_user_mentions.append(mention)\n",
    "\n",
    "        \n",
    "print 'Number of Mentions: ' + str(len(iphone_user_mentions))"
   ]
  },
  {
   "cell_type": "code",
   "execution_count": 50,
   "metadata": {},
   "outputs": [],
   "source": [
    "#total number of urls\n",
    "iphone_urls = []\n",
    "\n",
    "for tweet in tweets_iphone:\n",
    "    if tweet['lang'] == 'en':\n",
    "        for url in tweet['entities']['urls']:\n",
    "             iphone_urls.append(url)\n",
    "\n",
    "#total number of hashtags\n",
    "iphone_hashtags = []\n",
    "\n",
    "for tweet in tweets_iphone:\n",
    "    if tweet['lang'] == 'en':\n",
    "        for hashtag in tweet['entities']['hashtags']:\n",
    "             iphone_hashtags.append(hashtag)"
   ]
  },
  {
   "cell_type": "code",
   "execution_count": 49,
   "metadata": {},
   "outputs": [
    {
     "name": "stdout",
     "output_type": "stream",
     "text": [
      "Avg. Tweets per User: 1.22826238336\n",
      "Avg. User Mentions per Tweet: 0.851009146572\n",
      "Avg. URLs per Tweet: 0.183271600272\n",
      "Avg. Hashtags per Tweet: 0.27269634893\n"
     ]
    }
   ],
   "source": [
    "#Avg Metrics     \n",
    "\n",
    "#Avg number of Tweets per user     \n",
    "print \"Avg. Tweets per User: \" + str(((1.0*len(tweets_iphone))/(1.0*len(iphone_users))))\n",
    "\n",
    "#Avg number of mentions per Tweet     \n",
    "print \"Avg. User Mentions per Tweet: \" + str(((1.0*len(iphone_user_mentions)/(1.0*len(tweets_iphone)))))\n",
    "\n",
    "#Avg number of URLs per Tweet     \n",
    "print \"Avg. URLs per Tweet: \" + str(((1.0*len(iphone_urls)/(1.0*len(tweets_iphone)))))\n",
    "\n",
    "#Avg number of hashtags per Tweet     \n",
    "print \"Avg. Hashtags per Tweet: \" + str(((1.0*len(iphone_hashtags)/(1.0*len(tweets_iphone)))))"
   ]
  },
  {
   "cell_type": "markdown",
   "metadata": {},
   "source": [
    "### User Metrics\n",
    "* Number of User Mentions\n",
    "* Top 10 Most User's Mentioned"
   ]
  },
  {
   "cell_type": "code",
   "execution_count": 30,
   "metadata": {
    "scrolled": true
   },
   "outputs": [
    {
     "name": "stdout",
     "output_type": "stream",
     "text": [
      "Most Popular User Mentions:\n"
     ]
    },
    {
     "data": {
      "text/plain": [
       "GiveawayPluss    2404\n",
       "giveawaycntrl    1767\n",
       "BelleLife_gc     1521\n",
       "IzwanHs          1149\n",
       "lorynegracex     1107\n",
       "_mominz          1004\n",
       "YouTube           407\n",
       "kalluxrz          384\n",
       "inesds_c          380\n",
       "GladysSeara       357\n",
       "Name: screen_name, dtype: int64"
      ]
     },
     "execution_count": 30,
     "metadata": {},
     "output_type": "execute_result"
    }
   ],
   "source": [
    "#top 10m most common user mentions\n",
    "\n",
    "iphone_user_mentions_df = pd.DataFrame(iphone_user_mentions)\n",
    "print 'Most Popular User Mentions:'\n",
    "iphone_user_mentions_df['screen_name'].value_counts().head(10)"
   ]
  },
  {
   "cell_type": "markdown",
   "metadata": {},
   "source": [
    "### URL Metrics:\n",
    "* Most Common URLs in English Tweets"
   ]
  },
  {
   "cell_type": "code",
   "execution_count": 10,
   "metadata": {},
   "outputs": [
    {
     "name": "stdout",
     "output_type": "stream",
     "text": [
      "Most Popular URLs Hashtags:\n"
     ]
    },
    {
     "data": {
      "text/plain": [
       "https://t.co/Zswf2VzzCy    293\n",
       "https://t.co/XzdSESqEPM    239\n",
       "https://t.co/tjcD8nfABU    195\n",
       "https://t.co/4M6JaY9Mrm     84\n",
       "https://t.co/kNziLZtbcX     39\n",
       "https://t.co/mESHuWv1Yl     32\n",
       "https://t.co/MV6iAXX2lk     27\n",
       "https://t.co/XNY3hOH7Fr     26\n",
       "https://t.co/NoBemYWJ7o     26\n",
       "https://t.co/wRU7GbViGp     22\n",
       "Name: url, dtype: int64"
      ]
     },
     "execution_count": 10,
     "metadata": {},
     "output_type": "execute_result"
    }
   ],
   "source": [
    "#most common URLs in english tweets\n",
    "iphone_urls = []\n",
    "\n",
    "for tweet in tweets_iphone:\n",
    "    if tweet['lang'] == 'en':\n",
    "        for url in tweet['entities']['urls']:\n",
    "             iphone_urls.append(url)\n",
    "\n",
    "iphone_urls_df = pd.DataFrame(iphone_urls)\n",
    "\n",
    "print 'Most Popular URLs Hashtags:'\n",
    "iphone_urls_df['url'].value_counts().head(10)"
   ]
  },
  {
   "cell_type": "markdown",
   "metadata": {},
   "source": [
    "Most of these URL are links to various YouTube videos while others are links to sales pages for products."
   ]
  },
  {
   "cell_type": "markdown",
   "metadata": {},
   "source": [
    "<a id='iphone_ca'></a>\n",
    "## iPhone Content Analytics using English Tweets"
   ]
  },
  {
   "cell_type": "code",
   "execution_count": 28,
   "metadata": {
    "collapsed": true
   },
   "outputs": [],
   "source": [
    "# import packages for text processing\n",
    "import csv\n",
    "import pandas as pd\n",
    "import nltk\n",
    "from nltk.corpus import stopwords\n",
    "from nltk.stem.wordnet import WordNetLemmatizer\n",
    "import re\n",
    "\n",
    "import gensim\n",
    "from gensim.corpora import Dictionary\n",
    "from gensim.models import ldamodel\n",
    "from gensim import corpora, models, similarities\n",
    "\n",
    "from gensim.models.coherencemodel import CoherenceModel\n",
    "from gensim.models.wrappers import LdaVowpalWabbit, LdaMallet\n",
    "\n",
    "import numpy as np\n",
    "%matplotlib inline\n",
    "import matplotlib.pyplot as plt\n",
    "\n",
    "#import pyLDAvis.gensim\n",
    "\n",
    "import warnings\n",
    "warnings.filterwarnings(action='ignore', category=UserWarning)  # To ignore all warnings that arise here to enhance clarity"
   ]
  },
  {
   "cell_type": "code",
   "execution_count": 29,
   "metadata": {
    "collapsed": true
   },
   "outputs": [],
   "source": [
    "#gather list of text of english tweets:\n",
    "iphone_english_tweet_text = []\n",
    "\n",
    "for i in tweets_iphone:\n",
    "    if i['user']['lang'] == \"en\":\n",
    "        iphone_english_tweet_text.append(i['text'])\n",
    "#print \"Total number of english tweets: \" + str(len(iphone_english_tweet_text))"
   ]
  },
  {
   "cell_type": "code",
   "execution_count": 90,
   "metadata": {},
   "outputs": [
    {
     "name": "stdout",
     "output_type": "stream",
     "text": [
      "<type 'list'>\n"
     ]
    }
   ],
   "source": [
    "#Text Cleaning\n",
    "\n",
    "import nltk\n",
    "from nltk import word_tokenize\n",
    "from nltk.corpus import stopwords\n",
    "iphone_tokens = []\n",
    "\n",
    "#convert lists to strings\n",
    "iphone_english_tweet_text_str = str(iphone_english_tweet_text)\n",
    "\n",
    "#lowercase\n",
    "iphone_tokens = iphone_english_tweet_text_str.lower()\n",
    "\n",
    "#tokenize\n",
    "iphone_tokens = iphone_tokens.split()\n",
    "print type(iphone_tokens)\n",
    "#Remove stopwords\n",
    "iphone_more_stopwords = set(('iphonex', 'iphone x','dont','want','like'))\n",
    "iphone_stoplist = set(stopwords.words('english')) | iphone_more_stopwords\n",
    "# Created two generator outputs from actual iphone_tokens list type before used\n",
    "# again since there is a known issue in Python that generator types are destroyed when used\n",
    "iphone_tokens_g1 = (word for word in iphone_tokens if word not in iphone_stoplist)\n",
    "iphone_tokens_g2 = (word for word in iphone_tokens if word not in iphone_stoplist)\n",
    "\n",
    "# Filter non-alphanumeric chars from tokens\n",
    "iphone_tokens = (ch.lower() for ch in iphone_tokens_g1 if ch.isalpha())\n",
    "iphone_tokens_wc = (ch.lower() for ch in iphone_tokens_g2 if ch.isalpha())\n",
    "\n",
    "#remove short words\n",
    "iphone_tokens = (word for word in iphone_tokens if len(word) >= 4)\n",
    "iphone_tokens_wc = (word for word in iphone_tokens_wc if len(word) >= 4)\n",
    "\n",
    "#put into a string for wordcloud\n",
    "str_iphone_tokens = ''\n",
    "for i in iphone_tokens_wc:\n",
    "#    #print i\n",
    "    str_iphone_tokens = str_iphone_tokens + str(i) +', '\n"
   ]
  },
  {
   "cell_type": "markdown",
   "metadata": {},
   "source": [
    "### Word Analysis\n",
    "* Term/Word Frequency"
   ]
  },
  {
   "cell_type": "code",
   "execution_count": 91,
   "metadata": {
    "collapsed": true
   },
   "outputs": [],
   "source": [
    "#compute word frequency distribution\n",
    "iphone_fdist = nltk.FreqDist(iphone_tokens)"
   ]
  },
  {
   "cell_type": "code",
   "execution_count": 92,
   "metadata": {},
   "outputs": [
    {
     "data": {
      "text/plain": [
       "[('iphone', 11030),\n",
       " ('giveaway', 3579),\n",
       " ('post', 2129),\n",
       " ('notification', 1736),\n",
       " ('lang', 1187),\n",
       " ('para', 1164),\n",
       " ('tiwala', 1150),\n",
       " ('huawei', 1145),\n",
       " ('lucky', 1099),\n",
       " ('magkaiphone', 1093),\n",
       " ('mode', 1078),\n",
       " ('light', 1075),\n",
       " ('morning', 1066),\n",
       " ('dark', 1061),\n",
       " ('areas', 1059),\n",
       " ('shots', 1059),\n",
       " ('apply', 1059),\n",
       " ('direct', 1057),\n",
       " ('winners', 837),\n",
       " ('retweet', 622),\n",
       " ('phone', 617),\n",
       " ('follow', 548),\n",
       " ('apple', 533),\n",
       " ('first', 455),\n",
       " ('plus', 422),\n",
       " ('case', 410),\n",
       " ('brand', 388),\n",
       " ('mass', 317),\n",
       " ('rakan', 304),\n",
       " ('proof', 285),\n",
       " ('yung', 261),\n",
       " ('pera', 251),\n",
       " ('join', 248),\n",
       " ('kaya', 243),\n",
       " ('chance', 240),\n",
       " ('winner', 239),\n",
       " ('mean', 237),\n",
       " ('napadami', 233),\n",
       " ('siguro', 233),\n",
       " ('naging', 233),\n",
       " ('please', 216),\n",
       " ('today', 215),\n",
       " ('announcing', 205),\n",
       " ('picking', 204),\n",
       " ('enter', 202),\n",
       " ('better', 199),\n",
       " ('video', 193),\n",
       " ('stop', 192),\n",
       " ('free', 184),\n",
       " ('lost', 183)]"
      ]
     },
     "execution_count": 92,
     "metadata": {},
     "output_type": "execute_result"
    }
   ],
   "source": [
    "#print 50 most commond terms\n",
    "iphone_fdist.most_common(50)"
   ]
  },
  {
   "cell_type": "code",
   "execution_count": 93,
   "metadata": {},
   "outputs": [
    {
     "data": {
      "image/png": "[encoded data removed]",
      "text/plain": [
       "<matplotlib.figure.Figure at 0x94151908>"
      ]
     },
     "metadata": {},
     "output_type": "display_data"
    }
   ],
   "source": [
    "# graph of 50 most common words\n",
    "plt.figure(figsize=(12,6))\n",
    "iphone_fdist.plot(50)"
   ]
  },
  {
   "cell_type": "markdown",
   "metadata": {},
   "source": [
    "### WordCloud for terms"
   ]
  },
  {
   "cell_type": "code",
   "execution_count": 94,
   "metadata": {},
   "outputs": [
    {
     "data": {
      "text/plain": [
       "(-0.5, 399.5, 199.5, -0.5)"
      ]
     },
     "execution_count": 94,
     "metadata": {},
     "output_type": "execute_result"
    },
    {
     "data": {
      "image/png": "[encoded data removed]",
      "text/plain": [
       "<matplotlib.figure.Figure at 0x94560320>"
      ]
     },
     "metadata": {},
     "output_type": "display_data"
    }
   ],
   "source": [
    "#present word cloud\n",
    "\n",
    "from os import path\n",
    "from PIL import Image\n",
    "from wordcloud import WordCloud\n",
    "\n",
    "\n",
    "# Generate a word cloud image\n",
    "wordcloud = WordCloud().generate(str_iphone_tokens)\n",
    "\n",
    "# Display the generated image:\n",
    "plt.figure(figsize=(10,10))\n",
    "plt.imshow(wordcloud)\n",
    "plt.axis(\"off\")"
   ]
  },
  {
   "cell_type": "markdown",
   "metadata": {},
   "source": [
    "### Hashtag Analysis\n",
    "* Top 10 Most popular hashtags in English Tweets"
   ]
  },
  {
   "cell_type": "code",
   "execution_count": 221,
   "metadata": {},
   "outputs": [
    {
     "name": "stdout",
     "output_type": "stream",
     "text": [
      "Most Popular English Hashtags:\n"
     ]
    },
    {
     "data": {
      "text/plain": [
       "JBJจังหวะซิทคอม     1005\n",
       "iPhone8              476\n",
       "iPhone8Plus          389\n",
       "iPhone               233\n",
       "giveaway             109\n",
       "obiwezyisyourguy      98\n",
       "Telegram              87\n",
       "wallpaper             85\n",
       "iphone                80\n",
       "wallpapers            78\n",
       "Name: text, dtype: int64"
      ]
     },
     "execution_count": 221,
     "metadata": {},
     "output_type": "execute_result"
    }
   ],
   "source": [
    "#most common hash tags using english tweets\n",
    "iphone_hashtags = []\n",
    "\n",
    "for tweet in tweets_iphone:\n",
    "    if tweet['lang'] == 'en':\n",
    "        for hashtag in tweet['entities']['hashtags']:\n",
    "             iphone_hashtags.append(hashtag)\n",
    "\n",
    "\n",
    "iphone_hashtags_df = pd.DataFrame(iphone_hashtags)\n",
    "#remove iPhoneX and iphonex hashtags\n",
    "iphone_hashtags_df = iphone_hashtags_df[iphone_hashtags_df.text != 'iPhoneX']\n",
    "iphone_hashtags_df = iphone_hashtags_df[iphone_hashtags_df.text != 'iphonex']\n",
    "print 'Most Popular English Hashtags:'\n",
    "iphone_hashtags_df['text'].value_counts().head(10)"
   ]
  },
  {
   "cell_type": "markdown",
   "metadata": {},
   "source": [
    "### iPhone Topic Modeling\n",
    "* Compute optimal number of topics\n",
    "* Build Model and view Topics"
   ]
  },
  {
   "cell_type": "code",
   "execution_count": 96,
   "metadata": {
    "collapsed": true
   },
   "outputs": [],
   "source": [
    "import pandas as pd\n",
    "\n",
    "# import packages for text processing\n",
    "import nltk\n",
    "from nltk.corpus import stopwords\n",
    "from nltk.stem.wordnet import WordNetLemmatizer\n",
    "import re\n",
    "\n",
    "from gensim.corpora import Dictionary\n",
    "from gensim.models import ldamodel\n",
    "import numpy\n",
    "%matplotlib inline\n",
    "\n",
    "import warnings\n",
    "warnings.filterwarnings(action='ignore', category=UserWarning)  # To ignore all warnings that arise here to enhance clarity"
   ]
  },
  {
   "cell_type": "code",
   "execution_count": 97,
   "metadata": {
    "collapsed": true
   },
   "outputs": [],
   "source": [
    "#Cleaning the list for topic modeling. \n",
    "\n",
    "tweet_token_listA = []\n",
    "tweet_token_listB = []\n",
    "\n",
    "#loop through the tweets and clean the text of the tweet for topic modeling\n",
    "for tweet in iphone_english_tweet_text:\n",
    "    tweet_token_listA = [] #reset\n",
    "    \n",
    "    #lowercase\n",
    "    tweet = tweet.lower()\n",
    "    \n",
    "    # Remove useless numbers and alphanumerical words\n",
    "    tweet = re.sub(\"[^a-zA-Z0-9]\", \" \", tweet)\n",
    "    \n",
    "    #tokenize\n",
    "    tweet_tokens = tweet.split()\n",
    "    \n",
    "    #remove stopwords\n",
    "    tweet_tokens = (word for word in tweet_tokens if word not in iphone_stoplist)\n",
    "    \n",
    "    # Filter non-alphanumeric characters from auto_tokens\n",
    "    tweet_tokens = (word for word in tweet_tokens if word.isalpha())\n",
    "    \n",
    "    #remove short words\n",
    "    tweet_tokens = (word for word in tweet_tokens if len(word) >= 4)\n",
    "    \n",
    "    \n",
    "    for i in tweet_tokens:\n",
    "        #remove @ mentions, url links and hashtags\n",
    "        if (not i.startswith( '@' )) and (not i.startswith( 'http' )) and (not i.startswith( '#' )):\n",
    "            tweet_token_listA.append(str(i))\n",
    "        \n",
    "    #add the tweet to the list, don't add blank lines\n",
    "    if len(tweet_token_listA) >2:\n",
    "        tweet_token_listB.append(tweet_token_listA)\n"
   ]
  },
  {
   "cell_type": "code",
   "execution_count": 98,
   "metadata": {
    "collapsed": true
   },
   "outputs": [],
   "source": [
    "# this is text processing required for topic modeling with Gensim\n",
    "iphone_dictionary = Dictionary(tweet_token_listB)\n",
    "iphone_corpus = [iphone_dictionary.doc2bow(text) for text in tweet_token_listB]"
   ]
  },
  {
   "cell_type": "code",
   "execution_count": 99,
   "metadata": {
    "collapsed": true
   },
   "outputs": [],
   "source": [
    "#save the dictionary & corpus\n",
    "iphone_dictionary.save('data/iphone.dict')  # store the dictionary, for future reference\n",
    "corpora.MmCorpus.serialize('data/iphone.mm', iphone_corpus)  # store to disk, for later use  # store to disk, for later use"
   ]
  },
  {
   "cell_type": "code",
   "execution_count": 100,
   "metadata": {},
   "outputs": [
    {
     "name": "stdout",
     "output_type": "stream",
     "text": [
      "-10.626021052825424\n",
      "-12.148937322597348\n",
      "-13.435675403135738\n",
      "-13.69644670717214\n",
      "-14.129047433800968\n",
      "-14.198669754950528\n",
      "-15.016870185542821\n",
      "-15.345310435368068\n"
     ]
    }
   ],
   "source": [
    "#find optimal k value\n",
    "from gensim.models.coherencemodel import CoherenceModel\n",
    "from gensim.models.wrappers import LdaVowpalWabbit, LdaMallet\n",
    "\n",
    "#use a range of 2-10 topics\n",
    "for k in range(2,10):\n",
    "    goodLdaModel = ldamodel.LdaModel(corpus=iphone_corpus, id2word=iphone_dictionary, num_topics=k, passes=50)\n",
    "    goodcm = CoherenceModel(model=goodLdaModel, corpus=iphone_corpus, dictionary=iphone_dictionary, coherence='u_mass')\n",
    "    print goodcm.get_coherence()"
   ]
  },
  {
   "cell_type": "markdown",
   "metadata": {},
   "source": [
    "#### Optimal number of topics is 3."
   ]
  },
  {
   "cell_type": "code",
   "execution_count": 101,
   "metadata": {
    "collapsed": true
   },
   "outputs": [],
   "source": [
    "#Create LDA Topic Model for 3 topics\n",
    "iphone_ldamodel = ldamodel.LdaModel(iphone_corpus, id2word=iphone_dictionary, num_topics=3, passes=20)"
   ]
  },
  {
   "cell_type": "code",
   "execution_count": 102,
   "metadata": {},
   "outputs": [
    {
     "data": {
      "text/plain": [
       "[(0,\n",
       "  u'0.127*\"giveaway\" + 0.089*\"iphone\" + 0.073*\"follow\" + 0.059*\"post\" + 0.057*\"giveawaypluss\" + 0.052*\"fast\" + 0.050*\"turn\" + 0.050*\"notification\" + 0.041*\"giveawaycntrl\" + 0.025*\"winners\"'),\n",
       " (1,\n",
       "  u'0.118*\"iphone\" + 0.022*\"apple\" + 0.018*\"para\" + 0.018*\"lang\" + 0.018*\"tiwala\" + 0.017*\"thank\" + 0.017*\"lucky\" + 0.017*\"lorynegracex\" + 0.017*\"magkaiphone\" + 0.009*\"case\"'),\n",
       " (2,\n",
       "  u'0.063*\"light\" + 0.061*\"iphone\" + 0.038*\"cross\" + 0.034*\"huawei\" + 0.033*\"izwanhs\" + 0.033*\"please\" + 0.031*\"mode\" + 0.031*\"morning\" + 0.031*\"shots\" + 0.031*\"category\"')]"
      ]
     },
     "execution_count": 102,
     "metadata": {},
     "output_type": "execute_result"
    }
   ],
   "source": [
    "#list model topics\n",
    "iphone_ldamodel.show_topics()"
   ]
  },
  {
   "cell_type": "markdown",
   "metadata": {},
   "source": [
    "1. Topic appears to be about life and living, more social things.\n",
    "2. Topic appears to be about photography\n",
    "3. Topic appears to be about prizes and a giveaway competition."
   ]
  },
  {
   "cell_type": "markdown",
   "metadata": {},
   "source": [
    "### iPhone Sentiment Analysis\n",
    "using Pattern lexicon\n",
    "\n",
    "* Compute number of positive, negative and neutral tweets\n",
    "* Show Text of most positve and negative tweets"
   ]
  },
  {
   "cell_type": "code",
   "execution_count": 103,
   "metadata": {
    "collapsed": true
   },
   "outputs": [],
   "source": [
    "#patten lexicon\n",
    "from pattern.en import sentiment\n",
    "\n",
    "#totals\n",
    "intPositiveTotal = 0\n",
    "intNegativeTotal = 0\n",
    "intNeutralTotal = 0\n",
    "\n",
    "#highest/lowest\n",
    "highestscore =0\n",
    "lowestscore = 0\n",
    "most_positive_tweet =''\n",
    "most_negative_tweet =''\n",
    "\n",
    "for row in tweet_token_listB:\n",
    "    score = sentiment(row)\n",
    "    #print score[0], score[1]  \n",
    "    \n",
    "    #totals\n",
    "    if score[0] >= 0.15:\n",
    "        intPositiveTotal += 1\n",
    "        if score[0] > highestscore:\n",
    "            highestscore = score[0]\n",
    "            most_positive_tweet = row\n",
    "    elif score[0] < 0.15 and score[0] >= -0.1499:\n",
    "        intNeutralTotal += 1\n",
    "    else:\n",
    "        intNegativeTotal += 1\n",
    "        if score[0] < lowestscore:\n",
    "            lowestscore= score[0]\n",
    "            most_negative_tweet = row\n",
    "    \n",
    "    "
   ]
  },
  {
   "cell_type": "code",
   "execution_count": 104,
   "metadata": {},
   "outputs": [
    {
     "name": "stdout",
     "output_type": "stream",
     "text": [
      "Using Patten Lexicon:\n",
      "There are 6430 Positive Tweets.\n",
      "There are 719 Negative Tweets.\n",
      "There are 6540 Neutral Tweets.\n",
      "\n",
      "Most Positive Tweet Tokens: ['craving', 'football', 'looking', 'awesome', 'wallpaper', 'phone', 'worry', 'covere']\n",
      "Most Negative Tweet Tokens: ['apple', 'iphone', 'horrible', 'swipe', 'apps', 'instead', 'touch']\n"
     ]
    }
   ],
   "source": [
    "#Totals\n",
    "print \"Using Patten Lexicon:\"\n",
    "print \"There are \" + str(intPositiveTotal) +\" Positive Tweets.\"\n",
    "print \"There are \" + str(intNegativeTotal) +\" Negative Tweets.\"\n",
    "print \"There are \" + str(intNeutralTotal) +\" Neutral Tweets.\"\n",
    "print ''\n",
    "print 'Most Positive Tweet Tokens: ' + str(most_positive_tweet)\n",
    "print 'Most Negative Tweet Tokens: ' + str(most_negative_tweet)"
   ]
  },
  {
   "cell_type": "markdown",
   "metadata": {},
   "source": [
    "<a id='iphone_na'></a>\n",
    "## iPhone Network Analysis\n",
    "\n",
    "* Create a user mention network from the tweet data and analyize it in Gephi"
   ]
  },
  {
   "cell_type": "code",
   "execution_count": 84,
   "metadata": {
    "collapsed": true
   },
   "outputs": [],
   "source": [
    "#collect user mentions into a list.\n",
    "list_iphone_user_mentions =[]\n",
    "list_iphone_user_mentions_individual =[]\n",
    "\n",
    "for tweet in tweets_iphone:\n",
    "    \n",
    "    #capture a list of users and their mentions\n",
    "    for user_mention in tweet['entities']['user_mentions']:\n",
    "        list_iphone_user_mentions_individual =[] # reset\n",
    "        list_iphone_user_mentions_individual.append(tweet['user']['screen_name'])\n",
    "        list_iphone_user_mentions_individual.append(user_mention['screen_name'])\n",
    "        \n",
    "        list_iphone_user_mentions.append(list_iphone_user_mentions_individual)"
   ]
  },
  {
   "cell_type": "code",
   "execution_count": 79,
   "metadata": {
    "collapsed": true
   },
   "outputs": [],
   "source": [
    "#move the list to a dataframe and save as CSV for analysis in Gephi.\n",
    "df_iphone_user_mentions = pd.DataFrame(list_iphone_user_mentions)\n",
    "df_iphone_user_mentions.to_csv(\"data/iphone_usermentions.csv\",index=False, header=False)    "
   ]
  },
  {
   "cell_type": "code",
   "execution_count": 86,
   "metadata": {
    "scrolled": false
   },
   "outputs": [
    {
     "data": {
      "image/png": "[encoded data removed]",
      "text/plain": [
       "<IPython.core.display.Image object>"
      ]
     },
     "execution_count": 86,
     "metadata": {},
     "output_type": "execute_result"
    }
   ],
   "source": [
    "#Gephi Graph\n",
    "from IPython.display import Image\n",
    "Image(\"network_analysis/iphone_mention_network.png\")"
   ]
  },
  {
   "cell_type": "markdown",
   "metadata": {},
   "source": [
    "This is a Fruchterman Reingold layout format of the user mention iPhone data.  The text name size is scaled on the Eisenvector Centrality.  There appears to have been a contest for free phones, this is the reason the users <b>GiveawayPluss</b> and <b>giveawaycntrl</b> are popular.  Other users are tweeting at them to win the contest.\n",
    "\n",
    "Other popular users post a lot about photography users such as <b>IzwanHz</b> and others are popular in other languages making it difficult to determine thier exact purpose.\n",
    "\n",
    "There were over 2100 classes, so the overall modularity was 0.936, which given such a broad topic is not unexpected. Similarly the graph density was 0.004 which is very sparce and expected.\n",
    "\n",
    "\n"
   ]
  },
  {
   "cell_type": "markdown",
   "metadata": {},
   "source": [
    "<a id='sect_2'></a>\n",
    "# Section 2 - Galaxy S9"
   ]
  },
  {
   "cell_type": "code",
   "execution_count": 207,
   "metadata": {
    "collapsed": true
   },
   "outputs": [],
   "source": [
    "pd.options.display.max_columns = None\n",
    "pd.options.display.max_colwidth = 250\n",
    "pd.options.display.float_format = '{:,.4f}'.format"
   ]
  },
  {
   "cell_type": "markdown",
   "metadata": {},
   "source": [
    "<a id='galaxy_pt'></a>\n",
    "## Galaxy S9 Process Tweets\n",
    "#### Extract Information from Tweets to Analyze"
   ]
  },
  {
   "cell_type": "code",
   "execution_count": 106,
   "metadata": {
    "collapsed": true
   },
   "outputs": [],
   "source": [
    "#Tweet Times\n",
    "times_s9 = [T['created_at'] for T in tweets_samsungs9_en]\n",
    "\n",
    "#Get Text for Each Tweet\n",
    "texts_s9 = [T['text'] for T in tweets_samsungs9_en]\n",
    "\n",
    "#Get Geo coordinates if available\n",
    "lats_s9 = [(T['geo']['coordinates'][0] if T['geo'] else None) for T in tweets_samsungs9_en]\n",
    "longs_s9 = [(T['geo']['coordinates'][1] if T['geo'] else None) for T in tweets_samsungs9_en]\n",
    "\n",
    "#Get User Screen Name and Name if Available\n",
    "screen_names_s9 = [T['user']['screen_name'] for T in tweets_samsungs9_en]\n",
    "names_s9 = [T['user']['name'] for T in tweets_samsungs9_en]\n",
    "\n",
    "#Get tweet IDs\n",
    "tweet_ids_s9 = [T['id'] for T in tweets_samsungs9_en]\n",
    "\n",
    "#Get User Location\n",
    "locations_s9 = [T['user']['location'] for T in tweets_samsungs9_en]\n",
    "\n",
    "#More User Stats\n",
    "user_friends_count_s9 = [T['user']['friends_count'] for T in tweets_samsungs9_en]\n",
    "user_followers_count_s9 = [T['user']['followers_count'] for T in tweets_samsungs9_en]\n",
    "user_tweet_count_s9 = [T['user']['statuses_count'] for T in tweets_samsungs9_en]\n",
    "\n",
    "#Get Place Name of Tweet if Available\n",
    "place_names_s9 = [(T['place']['full_name'] if T['place'] else None) for T in tweets_samsungs9_en]\n",
    "\n",
    "#Create a List of Mentions for Each Tweet\n",
    "mentions_s9=[]\n",
    "\n",
    "for i in tweets_samsungs9_en:\n",
    "    if (len(i['entities']['user_mentions'][:]) >0):\n",
    "        mention_list=[]\n",
    "        for j in i['entities']['user_mentions'][:]:\n",
    "            #Handle rare case where there is a nested dictionary under screen_name\n",
    "            if isinstance(j['screen_name'],dict):\n",
    "                mention_list.append(j['screen_name']['screen_name'])\n",
    "            else:\n",
    "                mention_list.append(j['screen_name'])\n",
    "        mentions_s9.append(mention_list)\n",
    "    else:\n",
    "        mentions_s9.append(None)\n",
    "\n",
    "#Create List of Hashtags for Each Tweet\n",
    "tweet_tags_s9=[]\n",
    "\n",
    "for i in tweets_samsungs9_en:\n",
    "    if (len(i['entities']['hashtags'][:]) >0):\n",
    "        tags_list=[]\n",
    "        for j in i['entities']['hashtags'][:]:\n",
    "            tags_list.append(j['text'])\n",
    "        tweet_tags_s9.append(tags_list)\n",
    "    else:\n",
    "        tweet_tags_s9.append(None)\n"
   ]
  },
  {
   "cell_type": "markdown",
   "metadata": {},
   "source": [
    "#### Save Tweets to CSV File"
   ]
  },
  {
   "cell_type": "code",
   "execution_count": 107,
   "metadata": {
    "collapsed": true
   },
   "outputs": [],
   "source": [
    "# open an output csv file to write to\n",
    "out = open('data/tweets_samsungs9_en.csv', 'w')\n",
    "\n",
    "# write the header of our CSV as its first line\n",
    "out.write('created_at,id,text,mentions,hashtags,screen_name,name,user_location,user_friends_count,user_followers_count,user_tweet_count,lat,lon,place_name\\n')\n",
    "\n",
    "# merge each individual list into a single list using the zip function\n",
    "rows = zip(times_s9,tweet_ids_s9,texts_s9,mentions_s9,tweet_tags_s9,screen_names_s9,names_s9,locations_s9,\n",
    "           user_friends_count_s9,user_followers_count_s9,user_tweet_count_s9,lats_s9,longs_s9,place_names_s9)\n",
    "\n",
    "# use the writer module on our csv file\n",
    "w = csv.writer(out)\n",
    "\n",
    "# use one value from each of our rows list and write it to the csv as a new row\n",
    "for row in rows:\n",
    "    values = [(value.encode('utf-8') if hasattr(value, 'encode') else value) for value in row]\n",
    "    w.writerow(values)\n",
    "\n",
    "# close our csv file when done\n",
    "out.close()\n"
   ]
  },
  {
   "cell_type": "markdown",
   "metadata": {},
   "source": [
    "#### Create Pandas Dataframe from Tweets"
   ]
  },
  {
   "cell_type": "code",
   "execution_count": 108,
   "metadata": {},
   "outputs": [
    {
     "data": {
      "text/html": [
       "<div>\n",
       "<style>\n",
       "    .dataframe thead tr:only-child th {\n",
       "        text-align: right;\n",
       "    }\n",
       "\n",
       "    .dataframe thead th {\n",
       "        text-align: left;\n",
       "    }\n",
       "\n",
       "    .dataframe tbody tr th {\n",
       "        vertical-align: top;\n",
       "    }\n",
       "</style>\n",
       "<table border=\"1\" class=\"dataframe\">\n",
       "  <thead>\n",
       "    <tr style=\"text-align: right;\">\n",
       "      <th></th>\n",
       "      <th>created_at</th>\n",
       "      <th>id</th>\n",
       "      <th>text</th>\n",
       "      <th>mentions</th>\n",
       "      <th>hashtags</th>\n",
       "      <th>screen_name</th>\n",
       "      <th>name</th>\n",
       "      <th>user_location</th>\n",
       "      <th>user_friends_count</th>\n",
       "      <th>user_followers_count</th>\n",
       "      <th>user_tweet_count</th>\n",
       "      <th>lat</th>\n",
       "      <th>lon</th>\n",
       "      <th>place_name</th>\n",
       "    </tr>\n",
       "  </thead>\n",
       "  <tbody>\n",
       "    <tr>\n",
       "      <th>0</th>\n",
       "      <td>Sat Apr 21 20:00:44 +0000 2018</td>\n",
       "      <td>987783212595232768</td>\n",
       "      <td>RT @SamsungMobile: Want to spend a longer time gazing at your boy? #GalaxyS9 📷: @Dodo https://t.co/fF3ys2SUwi</td>\n",
       "      <td>[SamsungMobile, dodo]</td>\n",
       "      <td>[GalaxyS9]</td>\n",
       "      <td>CROCMarkt</td>\n",
       "      <td>CROC🍊🐊Digital Marketing🚀Power🌐</td>\n",
       "      <td>Toronto, Ontario</td>\n",
       "      <td>993</td>\n",
       "      <td>1157</td>\n",
       "      <td>423</td>\n",
       "      <td>nan</td>\n",
       "      <td>nan</td>\n",
       "      <td>None</td>\n",
       "    </tr>\n",
       "    <tr>\n",
       "      <th>1</th>\n",
       "      <td>Sat Apr 21 20:03:59 +0000 2018</td>\n",
       "      <td>987784029993922567</td>\n",
       "      <td>Will you also #trow in the #GoliathComedyClub goody bag https://t.co/iEjsc96T0C</td>\n",
       "      <td>None</td>\n",
       "      <td>[trow, GoliathComedyClub]</td>\n",
       "      <td>Maradalona</td>\n",
       "      <td>Redewaan Williams</td>\n",
       "      <td>Cape Town</td>\n",
       "      <td>631</td>\n",
       "      <td>1316</td>\n",
       "      <td>20134</td>\n",
       "      <td>nan</td>\n",
       "      <td>nan</td>\n",
       "      <td>None</td>\n",
       "    </tr>\n",
       "    <tr>\n",
       "      <th>2</th>\n",
       "      <td>Sat Apr 21 20:14:21 +0000 2018</td>\n",
       "      <td>987786638851002370</td>\n",
       "      <td>@Boycott_Samsung 😆😂 you be stalking and talking shit about Samsung, but meanwhile enter a giveaway to get a free Sa… https://t.co/ACVlLMevQj</td>\n",
       "      <td>[Boycott_Samsung]</td>\n",
       "      <td>None</td>\n",
       "      <td>johnmaked</td>\n",
       "      <td>t.r.c</td>\n",
       "      <td>via samsung galaxy s4</td>\n",
       "      <td>124</td>\n",
       "      <td>67</td>\n",
       "      <td>2352</td>\n",
       "      <td>nan</td>\n",
       "      <td>nan</td>\n",
       "      <td>None</td>\n",
       "    </tr>\n",
       "    <tr>\n",
       "      <th>3</th>\n",
       "      <td>Sat Apr 21 20:14:55 +0000 2018</td>\n",
       "      <td>987786779855015937</td>\n",
       "      <td>https://t.co/KfFMi1qxoi is giving an awesome #Samsung #GalaxyS9 mobile. Participate NOW! @shubham_neo #Giveaway #S9 https://t.co/ifXXLjZM7f</td>\n",
       "      <td>[shubham_neo]</td>\n",
       "      <td>[Samsung, GalaxyS9, Giveaway, S9]</td>\n",
       "      <td>SundstromKami</td>\n",
       "      <td>Kami Sundstrom</td>\n",
       "      <td>None</td>\n",
       "      <td>950</td>\n",
       "      <td>26</td>\n",
       "      <td>2689</td>\n",
       "      <td>nan</td>\n",
       "      <td>nan</td>\n",
       "      <td>None</td>\n",
       "    </tr>\n",
       "    <tr>\n",
       "      <th>4</th>\n",
       "      <td>Sat Apr 21 20:15:48 +0000 2018</td>\n",
       "      <td>987787004862590976</td>\n",
       "      <td>Samsung Galaxy S9 Plus international giveaway! https://t.co/JDzPykkWcZ</td>\n",
       "      <td>None</td>\n",
       "      <td>None</td>\n",
       "      <td>realmeateater</td>\n",
       "      <td>Arthur Otsuka</td>\n",
       "      <td>None</td>\n",
       "      <td>826</td>\n",
       "      <td>110</td>\n",
       "      <td>92912</td>\n",
       "      <td>nan</td>\n",
       "      <td>nan</td>\n",
       "      <td>None</td>\n",
       "    </tr>\n",
       "  </tbody>\n",
       "</table>\n",
       "</div>"
      ],
      "text/plain": [
       "                       created_at                  id  \\\n",
       "0  Sat Apr 21 20:00:44 +0000 2018  987783212595232768   \n",
       "1  Sat Apr 21 20:03:59 +0000 2018  987784029993922567   \n",
       "2  Sat Apr 21 20:14:21 +0000 2018  987786638851002370   \n",
       "3  Sat Apr 21 20:14:55 +0000 2018  987786779855015937   \n",
       "4  Sat Apr 21 20:15:48 +0000 2018  987787004862590976   \n",
       "\n",
       "                                                                                                                                             text  \\\n",
       "0                                  RT @SamsungMobile: Want to spend a longer time gazing at your boy? #GalaxyS9 📷: @Dodo https://t.co/fF3ys2SUwi   \n",
       "1                                                                 Will you also #trow in the #GoliathComedyClub goody bag https://t.co/iEjsc96T0C   \n",
       "2  @Boycott_Samsung 😆😂 you be stalking and talking shit about Samsung, but meanwhile enter a giveaway to get a free Sa… https://t.co/ACVlLMevQj   \n",
       "3     https://t.co/KfFMi1qxoi is giving an awesome #Samsung #GalaxyS9 mobile. Participate NOW! @shubham_neo #Giveaway #S9 https://t.co/ifXXLjZM7f   \n",
       "4                                                                          Samsung Galaxy S9 Plus international giveaway! https://t.co/JDzPykkWcZ   \n",
       "\n",
       "                mentions                           hashtags    screen_name  \\\n",
       "0  [SamsungMobile, dodo]                         [GalaxyS9]      CROCMarkt   \n",
       "1                   None          [trow, GoliathComedyClub]     Maradalona   \n",
       "2      [Boycott_Samsung]                               None      johnmaked   \n",
       "3          [shubham_neo]  [Samsung, GalaxyS9, Giveaway, S9]  SundstromKami   \n",
       "4                   None                               None  realmeateater   \n",
       "\n",
       "                                 name          user_location  \\\n",
       "0  CROC🍊🐊Digital Marketing🚀Power🌐       Toronto, Ontario   \n",
       "1                   Redewaan Williams              Cape Town   \n",
       "2                               t.r.c  via samsung galaxy s4   \n",
       "3                      Kami Sundstrom                   None   \n",
       "4                       Arthur Otsuka                   None   \n",
       "\n",
       "   user_friends_count  user_followers_count  user_tweet_count  lat  lon  \\\n",
       "0                 993                  1157               423  nan  nan   \n",
       "1                 631                  1316             20134  nan  nan   \n",
       "2                 124                    67              2352  nan  nan   \n",
       "3                 950                    26              2689  nan  nan   \n",
       "4                 826                   110             92912  nan  nan   \n",
       "\n",
       "  place_name  \n",
       "0       None  \n",
       "1       None  \n",
       "2       None  \n",
       "3       None  \n",
       "4       None  "
      ]
     },
     "execution_count": 108,
     "metadata": {},
     "output_type": "execute_result"
    }
   ],
   "source": [
    "#Define columns for dataframe\n",
    "columns=['created_at','id','text','mentions','hashtags','screen_name','name','user_location','user_friends_count','user_followers_count','user_tweet_count','lat','lon','place_name']\n",
    "\n",
    "#Create dataframe from zipped rows and column headings list\n",
    "df_s9=pd.DataFrame(rows,columns=columns)\n",
    "\n",
    "df_s9.head()"
   ]
  },
  {
   "cell_type": "code",
   "execution_count": 109,
   "metadata": {
    "collapsed": true
   },
   "outputs": [],
   "source": [
    "# Save dataframe to pickle file.\n",
    "df_s9.to_pickle('data/tweets_samsungs9_en.pkl')"
   ]
  },
  {
   "cell_type": "markdown",
   "metadata": {},
   "source": [
    "<a id='galaxy_da'></a>\n",
    "\n",
    "## Galaxy S9 Descriptive Analytics \n"
   ]
  },
  {
   "cell_type": "markdown",
   "metadata": {},
   "source": [
    "<a id='da_1'></a>\n",
    "\n",
    "### a. Tweet Metrics\n"
   ]
  },
  {
   "cell_type": "code",
   "execution_count": 110,
   "metadata": {},
   "outputs": [
    {
     "name": "stdout",
     "output_type": "stream",
     "text": [
      "There are 3844 English Galaxy S9 tweets in this data set.\n"
     ]
    }
   ],
   "source": [
    "# Calculate number of tweets\n",
    "number_of_tweets_s9 = len(tweets_samsungs9_en)\n",
    "print \"There are %s English Galaxy S9 tweets in this data set.\" %number_of_tweets_s9"
   ]
  },
  {
   "cell_type": "code",
   "execution_count": 111,
   "metadata": {},
   "outputs": [
    {
     "name": "stdout",
     "output_type": "stream",
     "text": [
      "There are 2634 original English Galaxy S9 tweets in this data set.\n"
     ]
    }
   ],
   "source": [
    "# Get List of Original Tweets\n",
    "\n",
    "originaltweets_s9 = []\n",
    "\n",
    "for tweet in texts_s9:\n",
    "    if 'rt @' not in tweet.lower():\n",
    "        originaltweets_s9.append(tweet)\n",
    "print \"There are %s original English Galaxy S9 tweets in this data set.\" %len(originaltweets_s9)"
   ]
  },
  {
   "cell_type": "code",
   "execution_count": 112,
   "metadata": {},
   "outputs": [
    {
     "name": "stdout",
     "output_type": "stream",
     "text": [
      "There are 1210 English Galaxy S9 retweets in this data set.\n"
     ]
    }
   ],
   "source": [
    "# Get List of Retweets Only\n",
    "\n",
    "retweets_only_s9 = []\n",
    "\n",
    "for tweet in texts_s9:\n",
    "    if 'rt @' in tweet.lower():\n",
    "        retweets_only_s9.append(tweet)\n",
    "print \"There are %s English Galaxy S9 retweets in this data set.\" %len(retweets_only_s9)"
   ]
  },
  {
   "cell_type": "code",
   "execution_count": 134,
   "metadata": {
    "collapsed": true
   },
   "outputs": [],
   "source": [
    "#Get List of Retweeted users\n",
    "retweeted_users_s9=[]\n",
    "\n",
    "for r in retweets_only_s9:\n",
    "    begin = re.match(r\"^([^:-]*)[^:]\", r).group()\n",
    "    a = re.findall(r\"(?<=@)\\w+\", begin)\n",
    "    retweeted_users_s9.append(a[0])\n",
    "#len(retweeted_users_s9)"
   ]
  },
  {
   "cell_type": "markdown",
   "metadata": {},
   "source": [
    "### b. Hashtags\n",
    "#### Number of Hashtags\n"
   ]
  },
  {
   "cell_type": "code",
   "execution_count": 114,
   "metadata": {},
   "outputs": [
    {
     "name": "stdout",
     "output_type": "stream",
     "text": [
      "There are 2995 hashtags in Galaxy S9 tweets\n"
     ]
    }
   ],
   "source": [
    "all_hashtags_s9=[]\n",
    "for i in df_s9.hashtags.tolist():\n",
    "    if i is not None:\n",
    "        for j in i:\n",
    "            all_hashtags_s9.append(j)\n",
    "\n",
    "print \"There are %s hashtags in Galaxy S9 tweets\" %(len(all_hashtags_s9))"
   ]
  },
  {
   "cell_type": "code",
   "execution_count": 115,
   "metadata": {},
   "outputs": [
    {
     "data": {
      "text/plain": [
       "[u'GalaxyS9', u'trow', u'GoliathComedyClub', u'Samsung', u'GalaxyS9']"
      ]
     },
     "execution_count": 115,
     "metadata": {},
     "output_type": "execute_result"
    }
   ],
   "source": [
    "#Preview all_hashtags_s9 list\n",
    "all_hashtags_s9[:5]"
   ]
  },
  {
   "cell_type": "markdown",
   "metadata": {},
   "source": [
    "#### Hashtag Frequency"
   ]
  },
  {
   "cell_type": "code",
   "execution_count": 116,
   "metadata": {},
   "outputs": [
    {
     "data": {
      "text/html": [
       "<div>\n",
       "<style>\n",
       "    .dataframe thead tr:only-child th {\n",
       "        text-align: right;\n",
       "    }\n",
       "\n",
       "    .dataframe thead th {\n",
       "        text-align: left;\n",
       "    }\n",
       "\n",
       "    .dataframe tbody tr th {\n",
       "        vertical-align: top;\n",
       "    }\n",
       "</style>\n",
       "<table border=\"1\" class=\"dataframe\">\n",
       "  <thead>\n",
       "    <tr style=\"text-align: right;\">\n",
       "      <th></th>\n",
       "      <th>Hashtag</th>\n",
       "      <th>Hashtag Count</th>\n",
       "    </tr>\n",
       "  </thead>\n",
       "  <tbody>\n",
       "    <tr>\n",
       "      <th>0</th>\n",
       "      <td>GalaxyS9</td>\n",
       "      <td>792</td>\n",
       "    </tr>\n",
       "    <tr>\n",
       "      <th>1</th>\n",
       "      <td>ARemoji</td>\n",
       "      <td>324</td>\n",
       "    </tr>\n",
       "    <tr>\n",
       "      <th>2</th>\n",
       "      <td>giveaway</td>\n",
       "      <td>172</td>\n",
       "    </tr>\n",
       "    <tr>\n",
       "      <th>3</th>\n",
       "      <td>GetAGalaxyS9</td>\n",
       "      <td>140</td>\n",
       "    </tr>\n",
       "    <tr>\n",
       "      <th>4</th>\n",
       "      <td>Samsung</td>\n",
       "      <td>102</td>\n",
       "    </tr>\n",
       "    <tr>\n",
       "      <th>5</th>\n",
       "      <td>GorillaGlass</td>\n",
       "      <td>74</td>\n",
       "    </tr>\n",
       "    <tr>\n",
       "      <th>6</th>\n",
       "      <td>galaxys9</td>\n",
       "      <td>70</td>\n",
       "    </tr>\n",
       "    <tr>\n",
       "      <th>7</th>\n",
       "      <td>S9</td>\n",
       "      <td>57</td>\n",
       "    </tr>\n",
       "    <tr>\n",
       "      <th>8</th>\n",
       "      <td>Giveaway</td>\n",
       "      <td>57</td>\n",
       "    </tr>\n",
       "    <tr>\n",
       "      <th>9</th>\n",
       "      <td>GalaxyS9Plus</td>\n",
       "      <td>54</td>\n",
       "    </tr>\n",
       "  </tbody>\n",
       "</table>\n",
       "</div>"
      ],
      "text/plain": [
       "        Hashtag  Hashtag Count\n",
       "0      GalaxyS9            792\n",
       "1       ARemoji            324\n",
       "2      giveaway            172\n",
       "3  GetAGalaxyS9            140\n",
       "4       Samsung            102\n",
       "5  GorillaGlass             74\n",
       "6      galaxys9             70\n",
       "7            S9             57\n",
       "8      Giveaway             57\n",
       "9  GalaxyS9Plus             54"
      ]
     },
     "execution_count": 116,
     "metadata": {},
     "output_type": "execute_result"
    }
   ],
   "source": [
    "\n",
    "h_s9 = Counter(all_hashtags_s9)\n",
    "pd.DataFrame(h_s9.most_common(10),columns=['Hashtag','Hashtag Count'])"
   ]
  },
  {
   "cell_type": "markdown",
   "metadata": {},
   "source": [
    "### c. Tweets per User"
   ]
  },
  {
   "cell_type": "code",
   "execution_count": 120,
   "metadata": {},
   "outputs": [
    {
     "name": "stdout",
     "output_type": "stream",
     "text": [
      "The average number of Galaxy S9 tweets per user: 1.48\n"
     ]
    }
   ],
   "source": [
    "#Average tweets per user?\n",
    "avg_tweets_s9 = (1.0*number_of_tweets_s9) / (1.0*unique_user_Count_s9)\n",
    "print \"The average number of Galaxy S9 tweets per user: %.2f\" %avg_tweets_s9\n"
   ]
  },
  {
   "cell_type": "markdown",
   "metadata": {},
   "source": [
    "#### Popular languages"
   ]
  },
  {
   "cell_type": "code",
   "execution_count": 121,
   "metadata": {},
   "outputs": [
    {
     "name": "stdout",
     "output_type": "stream",
     "text": [
      "[(u'en', 3844), (u'pt', 1457), (u'es', 1119), (u'fr', 910), (u'ko', 125), (u'de', 110), (u'ja', 83), (u'ru', 75), (u'it', 71), (u'ar', 69)]\n"
     ]
    }
   ],
   "source": [
    "lang_s9 = [T['user']['lang'] for T in tweets_samsungs9 if 'user' in T]\n",
    "\n",
    "lc_s9 = Counter(lang_s9)\n",
    "print lc_s9.most_common(10)"
   ]
  },
  {
   "cell_type": "markdown",
   "metadata": {},
   "source": [
    "* Tweets are mostly English, Portuguese, and Spanish."
   ]
  },
  {
   "cell_type": "markdown",
   "metadata": {},
   "source": [
    "#### English Tweets"
   ]
  },
  {
   "cell_type": "code",
   "execution_count": 122,
   "metadata": {},
   "outputs": [
    {
     "name": "stdout",
     "output_type": "stream",
     "text": [
      "The number of English tweets: 3844\n"
     ]
    }
   ],
   "source": [
    "# English tweets were collected earlier.  Although 'lang':'en' designate English, we also \n",
    "#see Spanish language in the tweet text itself\n",
    "print \"The number of English tweets: %s\" %len(tweets_samsungs9_en)"
   ]
  },
  {
   "cell_type": "markdown",
   "metadata": {},
   "source": [
    "#### Average Hashtags Per Tweet"
   ]
  },
  {
   "cell_type": "code",
   "execution_count": 123,
   "metadata": {},
   "outputs": [
    {
     "name": "stdout",
     "output_type": "stream",
     "text": [
      "The average number of hashtags per tweet: 0.78\n"
     ]
    }
   ],
   "source": [
    "# Calculate Average hastags per tweet\n",
    "print \"The average number of hashtags per tweet: %.2f\" %(1.0*len(all_hashtags_s9)/(number_of_tweets_s9))\n"
   ]
  },
  {
   "cell_type": "markdown",
   "metadata": {},
   "source": [
    "#### Average Mentions Per Tweet"
   ]
  },
  {
   "cell_type": "code",
   "execution_count": 124,
   "metadata": {},
   "outputs": [
    {
     "name": "stdout",
     "output_type": "stream",
     "text": [
      "The average number of mentions per tweet: 0.91\n"
     ]
    }
   ],
   "source": [
    "# Get total number mentions in tweets\n",
    "total_mentions_s9=0\n",
    "for m in mentions_s9:\n",
    "    if isinstance(m,list):\n",
    "        total_mentions_s9=total_mentions_s9+len(m)\n",
    "\n",
    "print \"The average number of mentions per tweet: %.2f\" %(1.0*total_mentions_s9/(number_of_tweets_s9))\n",
    "\n"
   ]
  },
  {
   "cell_type": "markdown",
   "metadata": {},
   "source": [
    "<a id='galaxy_um'></a>\n",
    "\n",
    "## Galaxy S9 User Metrics"
   ]
  },
  {
   "cell_type": "markdown",
   "metadata": {},
   "source": [
    "### a. How many users in the dataset"
   ]
  },
  {
   "cell_type": "code",
   "execution_count": 125,
   "metadata": {},
   "outputs": [
    {
     "name": "stdout",
     "output_type": "stream",
     "text": [
      "[(u'KhuyenHang', 133), (u'Phonemarket_', 37), (u'victorkuteb', 33), (u'Chloevitlay', 25), (u'leenalokesh', 23), (u'Maradalona', 23), (u'mabelmenon', 22), (u'harper20181', 22), (u'julliejames5', 21), (u'Oliviagirtiv', 18)]\n"
     ]
    }
   ],
   "source": [
    "from collections import Counter\n",
    "\n",
    "c_s9 = Counter(screen_names_s9)\n",
    "print c_s9.most_common(10)\n"
   ]
  },
  {
   "cell_type": "code",
   "execution_count": 126,
   "metadata": {},
   "outputs": [
    {
     "name": "stdout",
     "output_type": "stream",
     "text": [
      "There are 2589 unique users in the tweets.\n"
     ]
    }
   ],
   "source": [
    "# how many unique users in the data?\n",
    "unique_user_Count_s9 = len(c_s9)\n",
    "print \"There are %s unique users in the tweets.\" %unique_user_Count_s9"
   ]
  },
  {
   "cell_type": "markdown",
   "metadata": {},
   "source": [
    "### b. The Most Active Users"
   ]
  },
  {
   "cell_type": "code",
   "execution_count": 127,
   "metadata": {
    "scrolled": false
   },
   "outputs": [
    {
     "data": {
      "text/html": [
       "<div>\n",
       "<style>\n",
       "    .dataframe thead tr:only-child th {\n",
       "        text-align: right;\n",
       "    }\n",
       "\n",
       "    .dataframe thead th {\n",
       "        text-align: left;\n",
       "    }\n",
       "\n",
       "    .dataframe tbody tr th {\n",
       "        vertical-align: top;\n",
       "    }\n",
       "</style>\n",
       "<table border=\"1\" class=\"dataframe\">\n",
       "  <thead>\n",
       "    <tr style=\"text-align: right;\">\n",
       "      <th></th>\n",
       "      <th>User Screen Name</th>\n",
       "      <th>Tweet Count</th>\n",
       "    </tr>\n",
       "  </thead>\n",
       "  <tbody>\n",
       "    <tr>\n",
       "      <th>0</th>\n",
       "      <td>KhuyenHang</td>\n",
       "      <td>133</td>\n",
       "    </tr>\n",
       "    <tr>\n",
       "      <th>1</th>\n",
       "      <td>Phonemarket_</td>\n",
       "      <td>37</td>\n",
       "    </tr>\n",
       "    <tr>\n",
       "      <th>2</th>\n",
       "      <td>victorkuteb</td>\n",
       "      <td>33</td>\n",
       "    </tr>\n",
       "    <tr>\n",
       "      <th>3</th>\n",
       "      <td>Chloevitlay</td>\n",
       "      <td>25</td>\n",
       "    </tr>\n",
       "    <tr>\n",
       "      <th>4</th>\n",
       "      <td>leenalokesh</td>\n",
       "      <td>23</td>\n",
       "    </tr>\n",
       "    <tr>\n",
       "      <th>5</th>\n",
       "      <td>Maradalona</td>\n",
       "      <td>23</td>\n",
       "    </tr>\n",
       "    <tr>\n",
       "      <th>6</th>\n",
       "      <td>mabelmenon</td>\n",
       "      <td>22</td>\n",
       "    </tr>\n",
       "    <tr>\n",
       "      <th>7</th>\n",
       "      <td>harper20181</td>\n",
       "      <td>22</td>\n",
       "    </tr>\n",
       "    <tr>\n",
       "      <th>8</th>\n",
       "      <td>julliejames5</td>\n",
       "      <td>21</td>\n",
       "    </tr>\n",
       "    <tr>\n",
       "      <th>9</th>\n",
       "      <td>Oliviagirtiv</td>\n",
       "      <td>18</td>\n",
       "    </tr>\n",
       "    <tr>\n",
       "      <th>10</th>\n",
       "      <td>Abigailvientra</td>\n",
       "      <td>17</td>\n",
       "    </tr>\n",
       "    <tr>\n",
       "      <th>11</th>\n",
       "      <td>Sophiasearean</td>\n",
       "      <td>17</td>\n",
       "    </tr>\n",
       "    <tr>\n",
       "      <th>12</th>\n",
       "      <td>katherinekarthi</td>\n",
       "      <td>16</td>\n",
       "    </tr>\n",
       "    <tr>\n",
       "      <th>13</th>\n",
       "      <td>BREAKTHROUGH_16</td>\n",
       "      <td>16</td>\n",
       "    </tr>\n",
       "    <tr>\n",
       "      <th>14</th>\n",
       "      <td>Isabellatimea</td>\n",
       "      <td>15</td>\n",
       "    </tr>\n",
       "    <tr>\n",
       "      <th>15</th>\n",
       "      <td>SehkaSiboma_SA</td>\n",
       "      <td>15</td>\n",
       "    </tr>\n",
       "    <tr>\n",
       "      <th>16</th>\n",
       "      <td>kvsdigitech</td>\n",
       "      <td>14</td>\n",
       "    </tr>\n",
       "    <tr>\n",
       "      <th>17</th>\n",
       "      <td>TopCellularDeal</td>\n",
       "      <td>13</td>\n",
       "    </tr>\n",
       "    <tr>\n",
       "      <th>18</th>\n",
       "      <td>llwllnjohnson</td>\n",
       "      <td>12</td>\n",
       "    </tr>\n",
       "    <tr>\n",
       "      <th>19</th>\n",
       "      <td>Max39623738</td>\n",
       "      <td>11</td>\n",
       "    </tr>\n",
       "  </tbody>\n",
       "</table>\n",
       "</div>"
      ],
      "text/plain": [
       "   User Screen Name  Tweet Count\n",
       "0        KhuyenHang          133\n",
       "1      Phonemarket_           37\n",
       "2       victorkuteb           33\n",
       "3       Chloevitlay           25\n",
       "4       leenalokesh           23\n",
       "5        Maradalona           23\n",
       "6        mabelmenon           22\n",
       "7       harper20181           22\n",
       "8      julliejames5           21\n",
       "9      Oliviagirtiv           18\n",
       "10   Abigailvientra           17\n",
       "11    Sophiasearean           17\n",
       "12  katherinekarthi           16\n",
       "13  BREAKTHROUGH_16           16\n",
       "14    Isabellatimea           15\n",
       "15   SehkaSiboma_SA           15\n",
       "16      kvsdigitech           14\n",
       "17  TopCellularDeal           13\n",
       "18    llwllnjohnson           12\n",
       "19      Max39623738           11"
      ]
     },
     "execution_count": 127,
     "metadata": {},
     "output_type": "execute_result"
    }
   ],
   "source": [
    "# Top 20 Most Active Tweeters\n",
    "activetweeters_s9 = c_s9.most_common(20)\n",
    "activetweeters_s9_df = pd.DataFrame(activetweeters_s9,columns=['User Screen Name','Tweet Count'])\n",
    "activetweeters_s9_df"
   ]
  },
  {
   "cell_type": "markdown",
   "metadata": {},
   "source": [
    "### c. Most Visible Users (most mentioned)"
   ]
  },
  {
   "cell_type": "code",
   "execution_count": 128,
   "metadata": {
    "collapsed": true
   },
   "outputs": [],
   "source": [
    "all_mentions_s9=[]\n",
    "for i in df_s9.mentions.tolist():\n",
    "    if i is not None:\n",
    "        for j in i:\n",
    "            all_mentions_s9.append(j)"
   ]
  },
  {
   "cell_type": "code",
   "execution_count": 129,
   "metadata": {},
   "outputs": [
    {
     "data": {
      "text/plain": [
       "[u'SamsungMobile', u'dodo', u'Boycott_Samsung', u'shubham_neo', u'AndroidAuth']"
      ]
     },
     "execution_count": 129,
     "metadata": {},
     "output_type": "execute_result"
    }
   ],
   "source": [
    "all_mentions_s9[:5]"
   ]
  },
  {
   "cell_type": "code",
   "execution_count": 130,
   "metadata": {},
   "outputs": [
    {
     "data": {
      "text/html": [
       "<div>\n",
       "<style>\n",
       "    .dataframe thead tr:only-child th {\n",
       "        text-align: right;\n",
       "    }\n",
       "\n",
       "    .dataframe thead th {\n",
       "        text-align: left;\n",
       "    }\n",
       "\n",
       "    .dataframe tbody tr th {\n",
       "        vertical-align: top;\n",
       "    }\n",
       "</style>\n",
       "<table border=\"1\" class=\"dataframe\">\n",
       "  <thead>\n",
       "    <tr style=\"text-align: right;\">\n",
       "      <th></th>\n",
       "      <th>User</th>\n",
       "      <th>Mention Count</th>\n",
       "    </tr>\n",
       "  </thead>\n",
       "  <tbody>\n",
       "    <tr>\n",
       "      <th>0</th>\n",
       "      <td>DonovanGoliath</td>\n",
       "      <td>527</td>\n",
       "    </tr>\n",
       "    <tr>\n",
       "      <th>1</th>\n",
       "      <td>SamsungMobileSA</td>\n",
       "      <td>463</td>\n",
       "    </tr>\n",
       "    <tr>\n",
       "      <th>2</th>\n",
       "      <td>YouTube</td>\n",
       "      <td>192</td>\n",
       "    </tr>\n",
       "    <tr>\n",
       "      <th>3</th>\n",
       "      <td>AndroidAuth</td>\n",
       "      <td>176</td>\n",
       "    </tr>\n",
       "    <tr>\n",
       "      <th>4</th>\n",
       "      <td>corninggorilla</td>\n",
       "      <td>145</td>\n",
       "    </tr>\n",
       "    <tr>\n",
       "      <th>5</th>\n",
       "      <td>SamsungMobileIN</td>\n",
       "      <td>144</td>\n",
       "    </tr>\n",
       "    <tr>\n",
       "      <th>6</th>\n",
       "      <td>Gadgets360</td>\n",
       "      <td>136</td>\n",
       "    </tr>\n",
       "    <tr>\n",
       "      <th>7</th>\n",
       "      <td>shubham_neo</td>\n",
       "      <td>57</td>\n",
       "    </tr>\n",
       "    <tr>\n",
       "      <th>8</th>\n",
       "      <td>TheiCollection</td>\n",
       "      <td>57</td>\n",
       "    </tr>\n",
       "    <tr>\n",
       "      <th>9</th>\n",
       "      <td>TechnicalGuruji</td>\n",
       "      <td>52</td>\n",
       "    </tr>\n",
       "  </tbody>\n",
       "</table>\n",
       "</div>"
      ],
      "text/plain": [
       "              User  Mention Count\n",
       "0   DonovanGoliath            527\n",
       "1  SamsungMobileSA            463\n",
       "2          YouTube            192\n",
       "3      AndroidAuth            176\n",
       "4   corninggorilla            145\n",
       "5  SamsungMobileIN            144\n",
       "6       Gadgets360            136\n",
       "7      shubham_neo             57\n",
       "8   TheiCollection             57\n",
       "9  TechnicalGuruji             52"
      ]
     },
     "execution_count": 130,
     "metadata": {},
     "output_type": "execute_result"
    }
   ],
   "source": [
    "#type(all_mentions)\n",
    "m_s9 = Counter(all_mentions_s9)\n",
    "m_s9.most_common(20)\n",
    "pd.DataFrame(m_s9.most_common(10),columns=['User','Mention Count'])"
   ]
  },
  {
   "cell_type": "markdown",
   "metadata": {},
   "source": [
    "#### Top 10 Users Who Are Geo-Enabled"
   ]
  },
  {
   "cell_type": "code",
   "execution_count": 131,
   "metadata": {},
   "outputs": [
    {
     "name": "stdout",
     "output_type": "stream",
     "text": [
      "Counter({False: 2501, True: 1343})\n"
     ]
    }
   ],
   "source": [
    "#how many tweets contain geocode\n",
    "\n",
    "geo_s9 = [T['user']['geo_enabled'] for T in tweets_samsungs9_en if 'user' in T]\n",
    "g_s9 = Counter(geo_s9)\n",
    "print g_s9"
   ]
  },
  {
   "cell_type": "code",
   "execution_count": 132,
   "metadata": {},
   "outputs": [
    {
     "data": {
      "text/html": [
       "<div>\n",
       "<style>\n",
       "    .dataframe thead tr:only-child th {\n",
       "        text-align: right;\n",
       "    }\n",
       "\n",
       "    .dataframe thead th {\n",
       "        text-align: left;\n",
       "    }\n",
       "\n",
       "    .dataframe tbody tr th {\n",
       "        vertical-align: top;\n",
       "    }\n",
       "</style>\n",
       "<table border=\"1\" class=\"dataframe\">\n",
       "  <thead>\n",
       "    <tr style=\"text-align: right;\">\n",
       "      <th></th>\n",
       "      <th>Geo User</th>\n",
       "      <th>Tweet Count</th>\n",
       "    </tr>\n",
       "  </thead>\n",
       "  <tbody>\n",
       "    <tr>\n",
       "      <th>0</th>\n",
       "      <td>victorkuteb</td>\n",
       "      <td>33</td>\n",
       "    </tr>\n",
       "    <tr>\n",
       "      <th>1</th>\n",
       "      <td>Maradalona</td>\n",
       "      <td>23</td>\n",
       "    </tr>\n",
       "    <tr>\n",
       "      <th>2</th>\n",
       "      <td>llwllnjohnson</td>\n",
       "      <td>12</td>\n",
       "    </tr>\n",
       "    <tr>\n",
       "      <th>3</th>\n",
       "      <td>MayurZad</td>\n",
       "      <td>11</td>\n",
       "    </tr>\n",
       "    <tr>\n",
       "      <th>4</th>\n",
       "      <td>moodleyreo5</td>\n",
       "      <td>10</td>\n",
       "    </tr>\n",
       "    <tr>\n",
       "      <th>5</th>\n",
       "      <td>chinaecarts</td>\n",
       "      <td>9</td>\n",
       "    </tr>\n",
       "    <tr>\n",
       "      <th>6</th>\n",
       "      <td>NishyWezSyd</td>\n",
       "      <td>9</td>\n",
       "    </tr>\n",
       "    <tr>\n",
       "      <th>7</th>\n",
       "      <td>VirtualFrankie</td>\n",
       "      <td>8</td>\n",
       "    </tr>\n",
       "    <tr>\n",
       "      <th>8</th>\n",
       "      <td>shashi_70</td>\n",
       "      <td>8</td>\n",
       "    </tr>\n",
       "    <tr>\n",
       "      <th>9</th>\n",
       "      <td>syd_mtungwa</td>\n",
       "      <td>6</td>\n",
       "    </tr>\n",
       "  </tbody>\n",
       "</table>\n",
       "</div>"
      ],
      "text/plain": [
       "         Geo User  Tweet Count\n",
       "0     victorkuteb           33\n",
       "1      Maradalona           23\n",
       "2   llwllnjohnson           12\n",
       "3        MayurZad           11\n",
       "4     moodleyreo5           10\n",
       "5     chinaecarts            9\n",
       "6     NishyWezSyd            9\n",
       "7  VirtualFrankie            8\n",
       "8       shashi_70            8\n",
       "9     syd_mtungwa            6"
      ]
     },
     "execution_count": 132,
     "metadata": {},
     "output_type": "execute_result"
    }
   ],
   "source": [
    "# only English tweets & meta data\n",
    "geo_users_s9 = []\n",
    "geo_user_longs_s9=[]\n",
    "geo_user_lats_s9=[]\n",
    "\n",
    "for i in tweets_samsungs9_en:\n",
    "    if i['user']['geo_enabled']:\n",
    "        geo_users_s9.append(i['user']['screen_name'])\n",
    "\n",
    "gu_s9 = Counter(geo_users_s9)\n",
    "pd.DataFrame(gu_s9.most_common(10),columns=['Geo User','Tweet Count'])"
   ]
  },
  {
   "cell_type": "markdown",
   "metadata": {},
   "source": [
    "#### Top 10 Most Retweeted Users\n",
    "    "
   ]
  },
  {
   "cell_type": "code",
   "execution_count": 135,
   "metadata": {
    "scrolled": true
   },
   "outputs": [
    {
     "data": {
      "text/html": [
       "<div>\n",
       "<style>\n",
       "    .dataframe thead tr:only-child th {\n",
       "        text-align: right;\n",
       "    }\n",
       "\n",
       "    .dataframe thead th {\n",
       "        text-align: left;\n",
       "    }\n",
       "\n",
       "    .dataframe tbody tr th {\n",
       "        vertical-align: top;\n",
       "    }\n",
       "</style>\n",
       "<table border=\"1\" class=\"dataframe\">\n",
       "  <thead>\n",
       "    <tr style=\"text-align: right;\">\n",
       "      <th></th>\n",
       "      <th>User That Was Retweeted</th>\n",
       "      <th>Retweeted Count</th>\n",
       "    </tr>\n",
       "  </thead>\n",
       "  <tbody>\n",
       "    <tr>\n",
       "      <th>0</th>\n",
       "      <td>DonovanGoliath</td>\n",
       "      <td>172</td>\n",
       "    </tr>\n",
       "    <tr>\n",
       "      <th>1</th>\n",
       "      <td>Gadgets360</td>\n",
       "      <td>86</td>\n",
       "    </tr>\n",
       "    <tr>\n",
       "      <th>2</th>\n",
       "      <td>SamsungMobileIN</td>\n",
       "      <td>45</td>\n",
       "    </tr>\n",
       "    <tr>\n",
       "      <th>3</th>\n",
       "      <td>SamsungMobileSA</td>\n",
       "      <td>45</td>\n",
       "    </tr>\n",
       "    <tr>\n",
       "      <th>4</th>\n",
       "      <td>TechnicalGuruji</td>\n",
       "      <td>42</td>\n",
       "    </tr>\n",
       "    <tr>\n",
       "      <th>5</th>\n",
       "      <td>UnboxTherapy</td>\n",
       "      <td>40</td>\n",
       "    </tr>\n",
       "    <tr>\n",
       "      <th>6</th>\n",
       "      <td>SheiikMt</td>\n",
       "      <td>34</td>\n",
       "    </tr>\n",
       "    <tr>\n",
       "      <th>7</th>\n",
       "      <td>TheiCollection</td>\n",
       "      <td>28</td>\n",
       "    </tr>\n",
       "    <tr>\n",
       "      <th>8</th>\n",
       "      <td>samsungmobileng</td>\n",
       "      <td>26</td>\n",
       "    </tr>\n",
       "    <tr>\n",
       "      <th>9</th>\n",
       "      <td>rustedmankind</td>\n",
       "      <td>24</td>\n",
       "    </tr>\n",
       "  </tbody>\n",
       "</table>\n",
       "</div>"
      ],
      "text/plain": [
       "  User That Was Retweeted  Retweeted Count\n",
       "0          DonovanGoliath              172\n",
       "1              Gadgets360               86\n",
       "2         SamsungMobileIN               45\n",
       "3         SamsungMobileSA               45\n",
       "4         TechnicalGuruji               42\n",
       "5            UnboxTherapy               40\n",
       "6                SheiikMt               34\n",
       "7          TheiCollection               28\n",
       "8         samsungmobileng               26\n",
       "9           rustedmankind               24"
      ]
     },
     "execution_count": 135,
     "metadata": {},
     "output_type": "execute_result"
    }
   ],
   "source": [
    "# Top 10 Most Retweeted Users\n",
    "ru_s9 = Counter(retweeted_users_s9)\n",
    "pd.DataFrame(ru_s9.most_common(10),columns=['User That Was Retweeted','Retweeted Count'])"
   ]
  },
  {
   "cell_type": "markdown",
   "metadata": {},
   "source": [
    "### Where Do People Live?"
   ]
  },
  {
   "cell_type": "code",
   "execution_count": 213,
   "metadata": {
    "collapsed": true,
    "scrolled": true
   },
   "outputs": [],
   "source": [
    "#df_user_loc=df[['screen_name','user_location']]\n",
    "df2=df_s9.groupby( ['screen_name','user_location']).size().reset_index().rename(columns={0:'count'})\n",
    "df2=pd.DataFrame(df2)\n"
   ]
  },
  {
   "cell_type": "code",
   "execution_count": 214,
   "metadata": {
    "collapsed": true
   },
   "outputs": [],
   "source": [
    "# Get All User Location List\n",
    "all_user_loc_s9=df2.user_location.tolist()"
   ]
  },
  {
   "cell_type": "markdown",
   "metadata": {},
   "source": [
    "#### Top 10 User Locations"
   ]
  },
  {
   "cell_type": "code",
   "execution_count": 215,
   "metadata": {},
   "outputs": [
    {
     "data": {
      "text/html": [
       "<div>\n",
       "<style>\n",
       "    .dataframe thead tr:only-child th {\n",
       "        text-align: right;\n",
       "    }\n",
       "\n",
       "    .dataframe thead th {\n",
       "        text-align: left;\n",
       "    }\n",
       "\n",
       "    .dataframe tbody tr th {\n",
       "        vertical-align: top;\n",
       "    }\n",
       "</style>\n",
       "<table border=\"1\" class=\"dataframe\">\n",
       "  <thead>\n",
       "    <tr style=\"text-align: right;\">\n",
       "      <th></th>\n",
       "      <th>Location</th>\n",
       "      <th>Location Count</th>\n",
       "    </tr>\n",
       "  </thead>\n",
       "  <tbody>\n",
       "    <tr>\n",
       "      <th>0</th>\n",
       "      <td>India</td>\n",
       "      <td>52</td>\n",
       "    </tr>\n",
       "    <tr>\n",
       "      <th>1</th>\n",
       "      <td>South Africa</td>\n",
       "      <td>43</td>\n",
       "    </tr>\n",
       "    <tr>\n",
       "      <th>2</th>\n",
       "      <td>Johannesburg, South Africa</td>\n",
       "      <td>36</td>\n",
       "    </tr>\n",
       "    <tr>\n",
       "      <th>3</th>\n",
       "      <td>United States</td>\n",
       "      <td>34</td>\n",
       "    </tr>\n",
       "    <tr>\n",
       "      <th>4</th>\n",
       "      <td>Mumbai, India</td>\n",
       "      <td>33</td>\n",
       "    </tr>\n",
       "    <tr>\n",
       "      <th>5</th>\n",
       "      <td>Durban, South Africa</td>\n",
       "      <td>22</td>\n",
       "    </tr>\n",
       "    <tr>\n",
       "      <th>6</th>\n",
       "      <td>New Delhi, India</td>\n",
       "      <td>19</td>\n",
       "    </tr>\n",
       "    <tr>\n",
       "      <th>7</th>\n",
       "      <td>Cape Town, South Africa</td>\n",
       "      <td>15</td>\n",
       "    </tr>\n",
       "    <tr>\n",
       "      <th>8</th>\n",
       "      <td>USA</td>\n",
       "      <td>14</td>\n",
       "    </tr>\n",
       "    <tr>\n",
       "      <th>9</th>\n",
       "      <td>Pretoria, South Africa</td>\n",
       "      <td>13</td>\n",
       "    </tr>\n",
       "  </tbody>\n",
       "</table>\n",
       "</div>"
      ],
      "text/plain": [
       "                     Location  Location Count\n",
       "0                       India              52\n",
       "1                South Africa              43\n",
       "2  Johannesburg, South Africa              36\n",
       "3               United States              34\n",
       "4               Mumbai, India              33\n",
       "5        Durban, South Africa              22\n",
       "6            New Delhi, India              19\n",
       "7     Cape Town, South Africa              15\n",
       "8                         USA              14\n",
       "9      Pretoria, South Africa              13"
      ]
     },
     "execution_count": 215,
     "metadata": {},
     "output_type": "execute_result"
    }
   ],
   "source": [
    "# Count locations and present a Pandas Table\n",
    "ul_s9 = Counter(all_user_loc_s9)\n",
    "pd.DataFrame(ul_s9.most_common(10),columns=['Location','Location Count'])"
   ]
  },
  {
   "cell_type": "markdown",
   "metadata": {},
   "source": [
    "Unfortunately, the location designated by users varies widely so it's difficult to understand the true top 10 from a country perspective.  Much more detailed data cleaning would be required to get a better understanding, however, it's clear from the results that Samsung Galaxy S9 and iPhone X are truly global brands with followers in just about every country.  "
   ]
  },
  {
   "cell_type": "markdown",
   "metadata": {},
   "source": [
    "<a id='da_3'></a>\n",
    "\n",
    "## Galaxy S9 URL Metrics"
   ]
  },
  {
   "cell_type": "code",
   "execution_count": 158,
   "metadata": {
    "collapsed": true
   },
   "outputs": [],
   "source": [
    "urls_s9 = []\n",
    "\n",
    "for T in tweets_samsungs9_en:\n",
    "    for i in T['entities']['urls']:\n",
    "        urls_s9.append(i['url'])\n",
    "        \n",
    "#urls_s9[:10]"
   ]
  },
  {
   "cell_type": "code",
   "execution_count": 159,
   "metadata": {},
   "outputs": [
    {
     "name": "stdout",
     "output_type": "stream",
     "text": [
      "There are 2717 total URLs in the Galaxy S9 tweet dataset.\n"
     ]
    }
   ],
   "source": [
    "print \"There are %s total URLs in the Galaxy S9 tweet dataset.\" %len(urls_s9)"
   ]
  },
  {
   "cell_type": "markdown",
   "metadata": {},
   "source": [
    "### b. Number URLs per Tweet"
   ]
  },
  {
   "cell_type": "code",
   "execution_count": 160,
   "metadata": {},
   "outputs": [
    {
     "name": "stdout",
     "output_type": "stream",
     "text": [
      "There are 0.707 URLs per tweet.\n",
      "Or, there are 1.415 tweets per URL.\n"
     ]
    }
   ],
   "source": [
    "print \"There are %.3f URLs per tweet.\" %(1.0*len(urls_s9)/len(tweets_samsungs9_en))\n",
    "print \"Or, there are %.3f tweets per URL.\" %(1.0*len(tweets_samsungs9_en)/len(urls_s9))\n"
   ]
  },
  {
   "cell_type": "markdown",
   "metadata": {},
   "source": [
    "### c. Top URLs in Tweets"
   ]
  },
  {
   "cell_type": "code",
   "execution_count": 161,
   "metadata": {
    "collapsed": true
   },
   "outputs": [],
   "source": [
    "#top 10 urls ... visit some of them and find out what the articles are about\n",
    "\n",
    "t_s9 = Counter(urls_s9)\n",
    "\n",
    "df_urls_s9=pd.DataFrame(t_s9.most_common(10),columns=['URL','Number Times Referenced'])\n"
   ]
  },
  {
   "cell_type": "code",
   "execution_count": 162,
   "metadata": {},
   "outputs": [
    {
     "data": {
      "text/html": [
       "<div>\n",
       "<style>\n",
       "    .dataframe thead tr:only-child th {\n",
       "        text-align: right;\n",
       "    }\n",
       "\n",
       "    .dataframe thead th {\n",
       "        text-align: left;\n",
       "    }\n",
       "\n",
       "    .dataframe tbody tr th {\n",
       "        vertical-align: top;\n",
       "    }\n",
       "</style>\n",
       "<table border=\"1\" class=\"dataframe\">\n",
       "  <thead>\n",
       "    <tr style=\"text-align: right;\">\n",
       "      <th></th>\n",
       "      <th>URL</th>\n",
       "      <th>Number Times Referenced</th>\n",
       "      <th>Full URL</th>\n",
       "      <th>Description</th>\n",
       "    </tr>\n",
       "  </thead>\n",
       "  <tbody>\n",
       "    <tr>\n",
       "      <th>0</th>\n",
       "      <td>https://t.co/JbP5rff75V</td>\n",
       "      <td>110</td>\n",
       "      <td>https://play.google.com/store/apps/details?id=khuyenhang.emojis9</td>\n",
       "      <td>Google Play for an AR Emoji App (by KhuyenHang not by Samsung)</td>\n",
       "    </tr>\n",
       "    <tr>\n",
       "      <th>1</th>\n",
       "      <td>https://t.co/9Dvncw1Y9w</td>\n",
       "      <td>40</td>\n",
       "      <td>https://www.youtube.com/watch?v=8g-VjqONplA&amp;feature=youtu.be&amp;list=PL7u4lWXQ3wfI_7PgX0C-VTiwLeu0S4v34</td>\n",
       "      <td>YouTube video from popular Unbox Therapy about Galaxy S9</td>\n",
       "    </tr>\n",
       "    <tr>\n",
       "      <th>2</th>\n",
       "      <td>https://t.co/vpBb84WmB4</td>\n",
       "      <td>22</td>\n",
       "      <td>https://play.google.com/store/apps/details?id=khuyenhang.emojis9&amp;hl=en</td>\n",
       "      <td>Google Play for an AR Emoji App (KhuyenHang) (AGAIN)</td>\n",
       "    </tr>\n",
       "    <tr>\n",
       "      <th>3</th>\n",
       "      <td>https://t.co/ErXLCE3MwM</td>\n",
       "      <td>20</td>\n",
       "      <td>https://play.google.com/store/apps/details?id=khuyenhang.slowmotions9</td>\n",
       "      <td>Google Play for Slow Motion S9 App (by KhuyenHang)</td>\n",
       "    </tr>\n",
       "    <tr>\n",
       "      <th>4</th>\n",
       "      <td>https://t.co/sObaJFbz0C</td>\n",
       "      <td>19</td>\n",
       "      <td>https://gadgetstouse.com/full-reviews/comparison/huawei-p20-pro-vs-samsung-galaxy-s9-plus/101103</td>\n",
       "      <td>Gadgets To Use website comparing S9 to Huawei P20</td>\n",
       "    </tr>\n",
       "    <tr>\n",
       "      <th>5</th>\n",
       "      <td>https://t.co/Nmflrmae25</td>\n",
       "      <td>19</td>\n",
       "      <td>https://www.elle.com/</td>\n",
       "      <td>ELLE Magazine website</td>\n",
       "    </tr>\n",
       "    <tr>\n",
       "      <th>6</th>\n",
       "      <td>https://t.co/UgzDK9OTPQ</td>\n",
       "      <td>13</td>\n",
       "      <td>https://www.youtube.com/watch?v=tWuZj1f3rsE&amp;feature=youtu.be</td>\n",
       "      <td>YouTube video from NothingButTech88 about Galaxy S9</td>\n",
       "    </tr>\n",
       "    <tr>\n",
       "      <th>7</th>\n",
       "      <td>https://t.co/JjYMiv1iwW</td>\n",
       "      <td>13</td>\n",
       "      <td>https://twitter.com/DonovanGoliath/status/988674239883595776</td>\n",
       "      <td>DonovanGoliath Twitter Page</td>\n",
       "    </tr>\n",
       "    <tr>\n",
       "      <th>8</th>\n",
       "      <td>https://t.co/XmAq4hOutE</td>\n",
       "      <td>10</td>\n",
       "      <td>https://news.samsung.com/global/experience-more-with-galaxy-s9-and-s9-plus-intuitive-ux?utm_source=nr_twitter&amp;utm_medium=social</td>\n",
       "      <td>Samsung website</td>\n",
       "    </tr>\n",
       "    <tr>\n",
       "      <th>9</th>\n",
       "      <td>https://t.co/mQlCU133B4</td>\n",
       "      <td>9</td>\n",
       "      <td>https://www.instagram.com/p/Bh4kcgkHzPQ/?taken-by=techlinehd</td>\n",
       "      <td>Instagram page for techlinehd - Galaxy S9 giveaway</td>\n",
       "    </tr>\n",
       "  </tbody>\n",
       "</table>\n",
       "</div>"
      ],
      "text/plain": [
       "                       URL  Number Times Referenced  \\\n",
       "0  https://t.co/JbP5rff75V                      110   \n",
       "1  https://t.co/9Dvncw1Y9w                       40   \n",
       "2  https://t.co/vpBb84WmB4                       22   \n",
       "3  https://t.co/ErXLCE3MwM                       20   \n",
       "4  https://t.co/sObaJFbz0C                       19   \n",
       "5  https://t.co/Nmflrmae25                       19   \n",
       "6  https://t.co/UgzDK9OTPQ                       13   \n",
       "7  https://t.co/JjYMiv1iwW                       13   \n",
       "8  https://t.co/XmAq4hOutE                       10   \n",
       "9  https://t.co/mQlCU133B4                        9   \n",
       "\n",
       "                                                                                                                          Full URL  \\\n",
       "0                                                                 https://play.google.com/store/apps/details?id=khuyenhang.emojis9   \n",
       "1                             https://www.youtube.com/watch?v=8g-VjqONplA&feature=youtu.be&list=PL7u4lWXQ3wfI_7PgX0C-VTiwLeu0S4v34   \n",
       "2                                                           https://play.google.com/store/apps/details?id=khuyenhang.emojis9&hl=en   \n",
       "3                                                            https://play.google.com/store/apps/details?id=khuyenhang.slowmotions9   \n",
       "4                                 https://gadgetstouse.com/full-reviews/comparison/huawei-p20-pro-vs-samsung-galaxy-s9-plus/101103   \n",
       "5                                                                                                            https://www.elle.com/   \n",
       "6                                                                     https://www.youtube.com/watch?v=tWuZj1f3rsE&feature=youtu.be   \n",
       "7                                                                     https://twitter.com/DonovanGoliath/status/988674239883595776   \n",
       "8  https://news.samsung.com/global/experience-more-with-galaxy-s9-and-s9-plus-intuitive-ux?utm_source=nr_twitter&utm_medium=social   \n",
       "9                                                                     https://www.instagram.com/p/Bh4kcgkHzPQ/?taken-by=techlinehd   \n",
       "\n",
       "                                                      Description  \n",
       "0  Google Play for an AR Emoji App (by KhuyenHang not by Samsung)  \n",
       "1        YouTube video from popular Unbox Therapy about Galaxy S9  \n",
       "2            Google Play for an AR Emoji App (KhuyenHang) (AGAIN)  \n",
       "3              Google Play for Slow Motion S9 App (by KhuyenHang)  \n",
       "4               Gadgets To Use website comparing S9 to Huawei P20  \n",
       "5                                           ELLE Magazine website  \n",
       "6             YouTube video from NothingButTech88 about Galaxy S9  \n",
       "7                                     DonovanGoliath Twitter Page  \n",
       "8                                                 Samsung website  \n",
       "9              Instagram page for techlinehd - Galaxy S9 giveaway  "
      ]
     },
     "execution_count": 162,
     "metadata": {},
     "output_type": "execute_result"
    }
   ],
   "source": [
    "url_resolves=['https://play.google.com/store/apps/details?id=khuyenhang.emojis9',\n",
    "              'https://www.youtube.com/watch?v=8g-VjqONplA&feature=youtu.be&list=PL7u4lWXQ3wfI_7PgX0C-VTiwLeu0S4v34',\n",
    "              'https://play.google.com/store/apps/details?id=khuyenhang.emojis9&hl=en',\n",
    "              'https://play.google.com/store/apps/details?id=khuyenhang.slowmotions9',\n",
    "              'https://gadgetstouse.com/full-reviews/comparison/huawei-p20-pro-vs-samsung-galaxy-s9-plus/101103',\n",
    "              'https://www.elle.com/',\n",
    "              'https://www.youtube.com/watch?v=tWuZj1f3rsE&feature=youtu.be',\n",
    "              'https://twitter.com/DonovanGoliath/status/988674239883595776',\n",
    "              'https://news.samsung.com/global/experience-more-with-galaxy-s9-and-s9-plus-intuitive-ux?utm_source=nr_twitter&utm_medium=social',\n",
    "              'https://www.instagram.com/p/Bh4kcgkHzPQ/?taken-by=techlinehd']\n",
    "url_desc = ['Google Play for an AR Emoji App (by KhuyenHang not by Samsung)',\n",
    "            'YouTube video from popular Unbox Therapy about Galaxy S9',\n",
    "            'Google Play for an AR Emoji App (KhuyenHang) (AGAIN)',\n",
    "            'Google Play for Slow Motion S9 App (by KhuyenHang)',\n",
    "            'Gadgets To Use website comparing S9 to Huawei P20',\n",
    "            'ELLE Magazine website',\n",
    "            'YouTube video from NothingButTech88 about Galaxy S9',\n",
    "            'DonovanGoliath Twitter Page',\n",
    "            'Samsung website',\n",
    "            'Instagram page for techlinehd - Galaxy S9 giveaway']\n",
    "\n",
    "df_urls_s9['Full URL']=url_resolves\n",
    "df_urls_s9['Description']=url_desc\n",
    "df_urls_s9"
   ]
  },
  {
   "cell_type": "markdown",
   "metadata": {},
   "source": [
    "### d. Number of Unique URLs"
   ]
  },
  {
   "cell_type": "code",
   "execution_count": 163,
   "metadata": {},
   "outputs": [
    {
     "name": "stdout",
     "output_type": "stream",
     "text": [
      "The number of unique URLs is 2283\n"
     ]
    }
   ],
   "source": [
    "print \"The number of unique URLs is %s\" %len(t_s9.most_common())"
   ]
  },
  {
   "cell_type": "markdown",
   "metadata": {
    "collapsed": true
   },
   "source": [
    "<a id='galaxy_ca'></a>\n",
    "\n",
    "## Galaxy S9 Content Analytics"
   ]
  },
  {
   "cell_type": "markdown",
   "metadata": {
    "collapsed": true
   },
   "source": [
    "<a id='ca_1'></a>\n",
    "\n",
    "### Word Frequencies"
   ]
  },
  {
   "cell_type": "code",
   "execution_count": 164,
   "metadata": {
    "collapsed": true
   },
   "outputs": [],
   "source": [
    "import nltk\n",
    "from nltk import word_tokenize\n",
    "from nltk.corpus import stopwords\n",
    "\n",
    "#convert lists to strings\n",
    "originaltweets_s9 = str(originaltweets_s9)\n",
    "\n",
    "#lowercase\n",
    "tokens = originaltweets_s9.lower()\n",
    "\n",
    "#tokenize\n",
    "tokens_uni = tokens.split()\n",
    "tokens_bg = tokens.split()\n",
    "\n",
    "#Remove stopwords\n",
    "tokens_uni = (word for word in tokens_uni if word not in stopwords.words('english'))\n",
    "tokens_bg = (word for word in tokens_bg if word not in stopwords.words('english'))\n",
    "#print type(tokens)\n",
    "# Filter non-alphanumeric chars from tokens\n",
    "tokens_uni = (ch.lower() for ch in tokens_uni if ch.isalpha())\n",
    "tokens_bg = (ch.lower() for ch in tokens_bg if ch.isalpha())\n",
    "\n",
    "#compute frequency distribution for all the bigrams in the text\n",
    "fdist = nltk.FreqDist(tokens_uni)\n",
    "\n"
   ]
  },
  {
   "cell_type": "markdown",
   "metadata": {
    "collapsed": true
   },
   "source": [
    "### a. Top 10 Words"
   ]
  },
  {
   "cell_type": "code",
   "execution_count": 224,
   "metadata": {},
   "outputs": [
    {
     "data": {
      "text/html": [
       "<div>\n",
       "<style>\n",
       "    .dataframe thead tr:only-child th {\n",
       "        text-align: right;\n",
       "    }\n",
       "\n",
       "    .dataframe thead th {\n",
       "        text-align: left;\n",
       "    }\n",
       "\n",
       "    .dataframe tbody tr th {\n",
       "        vertical-align: top;\n",
       "    }\n",
       "</style>\n",
       "<table border=\"1\" class=\"dataframe\">\n",
       "  <thead>\n",
       "    <tr style=\"text-align: right;\">\n",
       "      <th></th>\n",
       "      <th>Word</th>\n",
       "      <th>Frequency</th>\n",
       "    </tr>\n",
       "  </thead>\n",
       "  <tbody>\n",
       "    <tr>\n",
       "      <th>0</th>\n",
       "      <td>galaxy</td>\n",
       "      <td>1955</td>\n",
       "    </tr>\n",
       "    <tr>\n",
       "      <th>1</th>\n",
       "      <td>samsung</td>\n",
       "      <td>1060</td>\n",
       "    </tr>\n",
       "    <tr>\n",
       "      <th>2</th>\n",
       "      <td>plus</td>\n",
       "      <td>503</td>\n",
       "    </tr>\n",
       "    <tr>\n",
       "      <th>3</th>\n",
       "      <td>case</td>\n",
       "      <td>264</td>\n",
       "    </tr>\n",
       "    <tr>\n",
       "      <th>4</th>\n",
       "      <td>giveaway</td>\n",
       "      <td>259</td>\n",
       "    </tr>\n",
       "    <tr>\n",
       "      <th>5</th>\n",
       "      <td>new</td>\n",
       "      <td>250</td>\n",
       "    </tr>\n",
       "    <tr>\n",
       "      <th>6</th>\n",
       "      <td>day</td>\n",
       "      <td>230</td>\n",
       "    </tr>\n",
       "    <tr>\n",
       "      <th>7</th>\n",
       "      <td>deal</td>\n",
       "      <td>226</td>\n",
       "    </tr>\n",
       "    <tr>\n",
       "      <th>8</th>\n",
       "      <td>international</td>\n",
       "      <td>217</td>\n",
       "    </tr>\n",
       "    <tr>\n",
       "      <th>9</th>\n",
       "      <td>spigen</td>\n",
       "      <td>217</td>\n",
       "    </tr>\n",
       "  </tbody>\n",
       "</table>\n",
       "</div>"
      ],
      "text/plain": [
       "            Word  Frequency\n",
       "0         galaxy       1955\n",
       "1        samsung       1060\n",
       "2           plus        503\n",
       "3           case        264\n",
       "4       giveaway        259\n",
       "5            new        250\n",
       "6            day        230\n",
       "7           deal        226\n",
       "8  international        217\n",
       "9         spigen        217"
      ]
     },
     "execution_count": 224,
     "metadata": {},
     "output_type": "execute_result"
    }
   ],
   "source": [
    "# Present Word Frequencies in a DataFrame\n",
    "pd.DataFrame(fdist.most_common(10),columns=['Word','Frequency'])"
   ]
  },
  {
   "cell_type": "markdown",
   "metadata": {
    "collapsed": true
   },
   "source": [
    "* Word frequncies show many words we would expect to see such as 'samsung' and 'galaxy'."
   ]
  },
  {
   "cell_type": "markdown",
   "metadata": {},
   "source": [
    "### b. Top 10 Word Pairs"
   ]
  },
  {
   "cell_type": "code",
   "execution_count": 166,
   "metadata": {
    "collapsed": true
   },
   "outputs": [],
   "source": [
    "#Create your bigrams ... a bigram are a pair of two tokens\n",
    "bigrams = nltk.bigrams(tokens_bg)\n",
    "#compute frequency distribution for all the bigrams in the text\n",
    "fdist_bi = nltk.FreqDist(bigrams)\n"
   ]
  },
  {
   "cell_type": "code",
   "execution_count": 226,
   "metadata": {},
   "outputs": [
    {
     "data": {
      "text/html": [
       "<div>\n",
       "<style>\n",
       "    .dataframe thead tr:only-child th {\n",
       "        text-align: right;\n",
       "    }\n",
       "\n",
       "    .dataframe thead th {\n",
       "        text-align: left;\n",
       "    }\n",
       "\n",
       "    .dataframe tbody tr th {\n",
       "        vertical-align: top;\n",
       "    }\n",
       "</style>\n",
       "<table border=\"1\" class=\"dataframe\">\n",
       "  <thead>\n",
       "    <tr style=\"text-align: right;\">\n",
       "      <th></th>\n",
       "      <th>Bigram</th>\n",
       "      <th>Frequency</th>\n",
       "    </tr>\n",
       "  </thead>\n",
       "  <tbody>\n",
       "    <tr>\n",
       "      <th>0</th>\n",
       "      <td>(samsung, galaxy)</td>\n",
       "      <td>860</td>\n",
       "    </tr>\n",
       "    <tr>\n",
       "      <th>1</th>\n",
       "      <td>(galaxy, plus)</td>\n",
       "      <td>472</td>\n",
       "    </tr>\n",
       "    <tr>\n",
       "      <th>2</th>\n",
       "      <td>(galaxy, galaxy)</td>\n",
       "      <td>239</td>\n",
       "    </tr>\n",
       "    <tr>\n",
       "      <th>3</th>\n",
       "      <td>(plus, international)</td>\n",
       "      <td>215</td>\n",
       "    </tr>\n",
       "    <tr>\n",
       "      <th>4</th>\n",
       "      <td>(deal, day)</td>\n",
       "      <td>214</td>\n",
       "    </tr>\n",
       "    <tr>\n",
       "      <th>5</th>\n",
       "      <td>(day, spigen)</td>\n",
       "      <td>214</td>\n",
       "    </tr>\n",
       "    <tr>\n",
       "      <th>6</th>\n",
       "      <td>(case, samsung)</td>\n",
       "      <td>212</td>\n",
       "    </tr>\n",
       "    <tr>\n",
       "      <th>7</th>\n",
       "      <td>(international, giveaway)</td>\n",
       "      <td>165</td>\n",
       "    </tr>\n",
       "    <tr>\n",
       "      <th>8</th>\n",
       "      <td>(emoji, galaxy)</td>\n",
       "      <td>144</td>\n",
       "    </tr>\n",
       "    <tr>\n",
       "      <th>9</th>\n",
       "      <td>(liked, video)</td>\n",
       "      <td>136</td>\n",
       "    </tr>\n",
       "  </tbody>\n",
       "</table>\n",
       "</div>"
      ],
      "text/plain": [
       "                      Bigram  Frequency\n",
       "0          (samsung, galaxy)        860\n",
       "1             (galaxy, plus)        472\n",
       "2           (galaxy, galaxy)        239\n",
       "3      (plus, international)        215\n",
       "4                (deal, day)        214\n",
       "5              (day, spigen)        214\n",
       "6            (case, samsung)        212\n",
       "7  (international, giveaway)        165\n",
       "8            (emoji, galaxy)        144\n",
       "9             (liked, video)        136"
      ]
     },
     "execution_count": 226,
     "metadata": {},
     "output_type": "execute_result"
    }
   ],
   "source": [
    "pd.DataFrame(fdist_bi.most_common(10),columns=['Bigram','Frequency'])\n"
   ]
  },
  {
   "cell_type": "markdown",
   "metadata": {},
   "source": [
    "<a id='ca_2'></a>\n",
    "\n",
    "### 2. Popular Hashtags"
   ]
  },
  {
   "cell_type": "code",
   "execution_count": 231,
   "metadata": {},
   "outputs": [
    {
     "data": {
      "text/html": [
       "<div>\n",
       "<style>\n",
       "    .dataframe thead tr:only-child th {\n",
       "        text-align: right;\n",
       "    }\n",
       "\n",
       "    .dataframe thead th {\n",
       "        text-align: left;\n",
       "    }\n",
       "\n",
       "    .dataframe tbody tr th {\n",
       "        vertical-align: top;\n",
       "    }\n",
       "</style>\n",
       "<table border=\"1\" class=\"dataframe\">\n",
       "  <thead>\n",
       "    <tr style=\"text-align: right;\">\n",
       "      <th></th>\n",
       "      <th>Hashtag</th>\n",
       "      <th>Hashtag Count</th>\n",
       "    </tr>\n",
       "  </thead>\n",
       "  <tbody>\n",
       "    <tr>\n",
       "      <th>0</th>\n",
       "      <td>GalaxyS9</td>\n",
       "      <td>792</td>\n",
       "    </tr>\n",
       "    <tr>\n",
       "      <th>1</th>\n",
       "      <td>ARemoji</td>\n",
       "      <td>324</td>\n",
       "    </tr>\n",
       "    <tr>\n",
       "      <th>2</th>\n",
       "      <td>giveaway</td>\n",
       "      <td>172</td>\n",
       "    </tr>\n",
       "    <tr>\n",
       "      <th>3</th>\n",
       "      <td>GetAGalaxyS9</td>\n",
       "      <td>140</td>\n",
       "    </tr>\n",
       "    <tr>\n",
       "      <th>4</th>\n",
       "      <td>Samsung</td>\n",
       "      <td>102</td>\n",
       "    </tr>\n",
       "    <tr>\n",
       "      <th>5</th>\n",
       "      <td>GorillaGlass</td>\n",
       "      <td>74</td>\n",
       "    </tr>\n",
       "    <tr>\n",
       "      <th>6</th>\n",
       "      <td>galaxys9</td>\n",
       "      <td>70</td>\n",
       "    </tr>\n",
       "    <tr>\n",
       "      <th>7</th>\n",
       "      <td>S9</td>\n",
       "      <td>57</td>\n",
       "    </tr>\n",
       "    <tr>\n",
       "      <th>8</th>\n",
       "      <td>Giveaway</td>\n",
       "      <td>57</td>\n",
       "    </tr>\n",
       "    <tr>\n",
       "      <th>9</th>\n",
       "      <td>GalaxyS9Plus</td>\n",
       "      <td>54</td>\n",
       "    </tr>\n",
       "    <tr>\n",
       "      <th>10</th>\n",
       "      <td>ReimagineWithGalaxyS9</td>\n",
       "      <td>35</td>\n",
       "    </tr>\n",
       "    <tr>\n",
       "      <th>11</th>\n",
       "      <td>samsung</td>\n",
       "      <td>29</td>\n",
       "    </tr>\n",
       "    <tr>\n",
       "      <th>12</th>\n",
       "      <td>HuaweiP20Pro</td>\n",
       "      <td>25</td>\n",
       "    </tr>\n",
       "    <tr>\n",
       "      <th>13</th>\n",
       "      <td>ChooseDay</td>\n",
       "      <td>24</td>\n",
       "    </tr>\n",
       "    <tr>\n",
       "      <th>14</th>\n",
       "      <td>SamsungS9</td>\n",
       "      <td>23</td>\n",
       "    </tr>\n",
       "    <tr>\n",
       "      <th>15</th>\n",
       "      <td>DoWhatYouCant</td>\n",
       "      <td>22</td>\n",
       "    </tr>\n",
       "    <tr>\n",
       "      <th>16</th>\n",
       "      <td>AREmoji</td>\n",
       "      <td>21</td>\n",
       "    </tr>\n",
       "    <tr>\n",
       "      <th>17</th>\n",
       "      <td>GTUComparison</td>\n",
       "      <td>20</td>\n",
       "    </tr>\n",
       "    <tr>\n",
       "      <th>18</th>\n",
       "      <td>galaxy</td>\n",
       "      <td>17</td>\n",
       "    </tr>\n",
       "    <tr>\n",
       "      <th>19</th>\n",
       "      <td>MisiónEmoji</td>\n",
       "      <td>16</td>\n",
       "    </tr>\n",
       "  </tbody>\n",
       "</table>\n",
       "</div>"
      ],
      "text/plain": [
       "                  Hashtag  Hashtag Count\n",
       "0                GalaxyS9            792\n",
       "1                 ARemoji            324\n",
       "2                giveaway            172\n",
       "3            GetAGalaxyS9            140\n",
       "4                 Samsung            102\n",
       "5            GorillaGlass             74\n",
       "6                galaxys9             70\n",
       "7                      S9             57\n",
       "8                Giveaway             57\n",
       "9            GalaxyS9Plus             54\n",
       "10  ReimagineWithGalaxyS9             35\n",
       "11                samsung             29\n",
       "12           HuaweiP20Pro             25\n",
       "13              ChooseDay             24\n",
       "14              SamsungS9             23\n",
       "15          DoWhatYouCant             22\n",
       "16                AREmoji             21\n",
       "17          GTUComparison             20\n",
       "18                 galaxy             17\n",
       "19            MisiónEmoji             16"
      ]
     },
     "execution_count": 231,
     "metadata": {},
     "output_type": "execute_result"
    }
   ],
   "source": [
    "#type(all_mentions)\n",
    "h_s9 = Counter(all_hashtags_s9)\n",
    "pd.DataFrame(h_s9.most_common(20),columns=['Hashtag','Hashtag Count'])\n"
   ]
  },
  {
   "cell_type": "markdown",
   "metadata": {},
   "source": [
    "* As we would expect, popular hashtags include the phone name and brand, but it looks like 'ARemoji' is also very popular.  The AR Emoji feature of Galaxy S9 is very popular as it allows users to create an augmented reality emoji of the user's face, including expressions that users make."
   ]
  },
  {
   "cell_type": "markdown",
   "metadata": {},
   "source": [
    "<a id='ca_3'></a>\n",
    "\n",
    "### 3. Topic Modeling Galaxy S9 Tweets"
   ]
  },
  {
   "cell_type": "code",
   "execution_count": 169,
   "metadata": {
    "collapsed": true
   },
   "outputs": [],
   "source": [
    "import csv\n",
    "import pandas as pd\n",
    "\n",
    "# import packages for text processing\n",
    "import nltk\n",
    "from nltk.corpus import stopwords\n",
    "from nltk.stem.wordnet import WordNetLemmatizer\n",
    "from nltk.stem.porter import PorterStemmer\n",
    "import re\n",
    "\n",
    "from gensim.corpora import Dictionary\n",
    "from gensim.models import ldamodel\n",
    "\n",
    "from gensim.models.coherencemodel import CoherenceModel\n",
    "from gensim.models.wrappers import LdaVowpalWabbit, LdaMallet\n",
    "from gensim import corpora, models, similarities\n",
    "\n",
    "import matplotlib.pyplot as plt\n",
    "%matplotlib inline\n",
    "\n",
    "import numpy\n",
    "\n",
    "import warnings\n",
    "warnings.filterwarnings('ignore')  # To ignore all warnings that arise here to enhance clarity"
   ]
  },
  {
   "cell_type": "code",
   "execution_count": 170,
   "metadata": {},
   "outputs": [
    {
     "data": {
      "text/plain": [
       "2634"
      ]
     },
     "execution_count": 170,
     "metadata": {},
     "output_type": "execute_result"
    }
   ],
   "source": [
    "# select original English tweets\n",
    "english_originaltweets = []\n",
    "\n",
    "for tweet in tweets_samsungs9_en:\n",
    "    if 'rt @' not in tweet['text'].lower():\n",
    "        english_originaltweets.append(tweet['text'])\n",
    "        \n",
    "len(english_originaltweets)"
   ]
  },
  {
   "cell_type": "code",
   "execution_count": 171,
   "metadata": {
    "collapsed": true
   },
   "outputs": [],
   "source": [
    "# Remove useless numbers and alphanumerical words including http     \n",
    "documents = [re.sub(\"(@[A-Za-z0-9]+)|([^0-9A-Za-z \\t])|(\\w+:\\/\\/\\S+)\", \" \", text) for text in english_originaltweets]\n",
    "# tokenize\n",
    "texts = [[word for word in text.lower().split() ] for text in documents]\n",
    "# stemming words\n",
    "lmtzr = WordNetLemmatizer()\n",
    "texts = [[lmtzr.lemmatize(word) for word in text ] for text in texts]\n",
    "# remove common words \n",
    "stoplist = stopwords.words('english')\n",
    "texts = [[word for word in text if word not in stoplist] for text in texts]\n",
    "#remove short words\n",
    "english_originaltweets_clean = [[ word for word in tokens if len(word) >= 3 ] for tokens in texts]"
   ]
  },
  {
   "cell_type": "code",
   "execution_count": 172,
   "metadata": {
    "collapsed": true
   },
   "outputs": [],
   "source": [
    "# A list of extra stopwords specific to the debates transcripts (if you want to remove more stopwords)\n",
    "extra_stopwords = ['amp','get','got','hey','hmm','hoo','hop','iep','let','ooo','par',\n",
    "            'pdt','pln','pst','wha','yep','yer','aest','didn','nzdt','via',\n",
    "            'one','com','new','like','great','make','top','awesome','best',\n",
    "            'good','wow','yes','say','yay','would','thanks','thank','going',\n",
    "            'new','use','should','could','really','see','want','nice',\n",
    "            'while','know','free','today','day','always','last','put','live',\n",
    "            'week','went','wasn','was','used','ugh','try','kind', 'http','much',\n",
    "            'need', 'next','app','ibm','appleevent','using']\n",
    "\n",
    "extra_stoplist = extra_stopwords\n",
    "english_originaltweets_clean = [[word for word in text if word not in extra_stoplist] for text in english_originaltweets_clean]\n",
    "#https://github.com/alexperrier/datatalks/blob/master/debates/R/stm.R"
   ]
  },
  {
   "cell_type": "raw",
   "metadata": {},
   "source": [
    "english_originaltweets_clean[:2]"
   ]
  },
  {
   "cell_type": "code",
   "execution_count": 173,
   "metadata": {
    "collapsed": true
   },
   "outputs": [],
   "source": [
    "# after processing each tweet, some tweets could be empty. These empty rows should be removed from further analysis.\n",
    "\n",
    "english_originaltweets_clean = [x for x in english_originaltweets_clean if x]\n",
    "#english_originaltweets_clean[:5]\n"
   ]
  },
  {
   "cell_type": "code",
   "execution_count": 174,
   "metadata": {},
   "outputs": [
    {
     "data": {
      "text/plain": [
       "2622"
      ]
     },
     "execution_count": 174,
     "metadata": {},
     "output_type": "execute_result"
    }
   ],
   "source": [
    "len(english_originaltweets_clean)"
   ]
  },
  {
   "cell_type": "code",
   "execution_count": 175,
   "metadata": {
    "collapsed": true
   },
   "outputs": [],
   "source": [
    "# this is text processing required for topic modeling with Gensim\n",
    "dictionary = Dictionary(english_originaltweets_clean)\n",
    "corpus = [dictionary.doc2bow(text) for text in english_originaltweets_clean]"
   ]
  },
  {
   "cell_type": "code",
   "execution_count": 176,
   "metadata": {},
   "outputs": [
    {
     "name": "stdout",
     "output_type": "stream",
     "text": [
      "2\n",
      "3\n",
      "4\n",
      "5\n",
      "6\n",
      "7\n"
     ]
    },
    {
     "data": {
      "text/plain": [
       "[<matplotlib.lines.Line2D at 0x934e55f8>]"
      ]
     },
     "execution_count": 176,
     "metadata": {},
     "output_type": "execute_result"
    },
    {
     "data": {
      "image/png": "[encoded data removed]",
      "text/plain": [
       "<matplotlib.figure.Figure at 0x94ab6ac8>"
      ]
     },
     "metadata": {},
     "output_type": "display_data"
    }
   ],
   "source": [
    "numpy.random.seed(1) # setting random seed to get the same results each time.\n",
    "k_range = range(2,8,1)   # This process could take a very long time ...\n",
    "scores = []\n",
    "for k in k_range:\n",
    "    print k            # to figure out where this process is ... \n",
    "    goodLdaModel = ldamodel.LdaModel(corpus=corpus, id2word=dictionary, num_topics=k, passes=50)  #for better results, use a higher passes (e.g., 50)\n",
    "    #goodLdaModel=models.LdaMulticore(corpus, id2word=dictionary, num_topics=k, workers=5,passes=50)\n",
    "    goodcm = CoherenceModel(model=goodLdaModel, corpus=corpus, dictionary=dictionary, coherence='u_mass')\n",
    "    scores.append(goodcm.get_coherence())\n",
    "    \n",
    "plt.figure(figsize=(14, 8))\n",
    "plt.plot(k_range, scores)"
   ]
  },
  {
   "cell_type": "code",
   "execution_count": 177,
   "metadata": {},
   "outputs": [
    {
     "data": {
      "text/plain": [
       "[-12.538545782921144,\n",
       " -11.975721471223252,\n",
       " -11.499354519868609,\n",
       " -13.559695163484122,\n",
       " -13.348972327151065,\n",
       " -13.613353061844766]"
      ]
     },
     "execution_count": 177,
     "metadata": {},
     "output_type": "execute_result"
    }
   ],
   "source": [
    "scores"
   ]
  },
  {
   "cell_type": "markdown",
   "metadata": {},
   "source": [
    "#### The best value for the number of topics appears to be 4.\n"
   ]
  },
  {
   "cell_type": "code",
   "execution_count": 178,
   "metadata": {
    "collapsed": true
   },
   "outputs": [],
   "source": [
    "# Let's look at three topics \n",
    "numpy.random.seed(1) # setting random seed to get the same results each time. For a large dataset, \n",
    "# high passes (e.g., 50, 75) would be desirable.\n",
    "\n",
    "# train LDA using 6 cores (1 master + 5 workers)\n",
    "model = models.LdaMulticore(corpus, id2word=dictionary, num_topics=4, workers=5,passes=200, eval_every = 1)\n"
   ]
  },
  {
   "cell_type": "code",
   "execution_count": 179,
   "metadata": {},
   "outputs": [
    {
     "data": {
      "text/plain": [
       "[(0,\n",
       "  u'0.089*\"galaxy\" + 0.070*\"samsung\" + 0.024*\"phone\" + 0.015*\"p20\" + 0.013*\"huawei\" + 0.012*\"pro\" + 0.012*\"plus\" + 0.011*\"buy\" + 0.010*\"deal\" + 0.009*\"200\"'),\n",
       " (1,\n",
       "  u'0.092*\"samsung\" + 0.086*\"galaxy\" + 0.036*\"video\" + 0.030*\"liked\" + 0.023*\"switching\" + 0.016*\"galaxys9\" + 0.009*\"slow\" + 0.009*\"knox\" + 0.008*\"izsp\" + 0.008*\"piedalos\"'),\n",
       " (2,\n",
       "  u'0.141*\"galaxy\" + 0.089*\"samsung\" + 0.059*\"giveaway\" + 0.053*\"plus\" + 0.044*\"case\" + 0.030*\"deal\" + 0.026*\"spigen\" + 0.026*\"international\" + 0.026*\"amazon\" + 0.020*\"please\"'),\n",
       " (3,\n",
       "  u'0.090*\"galaxys9\" + 0.048*\"aremoji\" + 0.033*\"getagalaxys9\" + 0.024*\"samsung\" + 0.017*\"mobile\" + 0.015*\"participate\" + 0.014*\"neo\" + 0.014*\"giving\" + 0.014*\"giveaway\" + 0.010*\"usb\"')]"
      ]
     },
     "execution_count": 179,
     "metadata": {},
     "output_type": "execute_result"
    }
   ],
   "source": [
    "model.show_topics(4,10)"
   ]
  },
  {
   "cell_type": "code",
   "execution_count": 180,
   "metadata": {},
   "outputs": [
    {
     "name": "stdout",
     "output_type": "stream",
     "text": [
      "0: galaxy, samsung, phone, p20, huawei, pro, plus, buy, deal, 200\n",
      "1: samsung, galaxy, video, liked, switching, galaxys9, slow, knox, izsp, piedalos\n",
      "2: galaxy, samsung, giveaway, plus, case, deal, spigen, international, amazon, please\n",
      "3: galaxys9, aremoji, getagalaxys9, samsung, mobile, participate, neo, giving, giveaway, usb\n"
     ]
    }
   ],
   "source": [
    "# print words without probability\n",
    "for i in range(0,4):\n",
    "    topics = model.show_topic(i, 10)\n",
    "    print \"%s: %s\" %(i, (', '.join([str(word[0]) for word in topics])))"
   ]
  },
  {
   "cell_type": "code",
   "execution_count": 181,
   "metadata": {},
   "outputs": [
    {
     "data": {
      "text/plain": [
       "[[(0, 0.0487529), (1, 0.04209054), (2, 0.04168668), (3, 0.86746985)]]"
      ]
     },
     "execution_count": 181,
     "metadata": {},
     "output_type": "execute_result"
    }
   ],
   "source": [
    "lda_corpus = model[corpus]\n",
    "\n",
    "results = []\n",
    "for i in lda_corpus:\n",
    "    #print i\n",
    "    results.append(i)\n",
    "\n",
    "results[:1]"
   ]
  },
  {
   "cell_type": "code",
   "execution_count": 182,
   "metadata": {},
   "outputs": [
    {
     "data": {
      "text/plain": [
       "['[also trow goliathcomedyclub goody bag]',\n",
       " '[samsung stalking talking shit samsung meanwhile enter giveaway]',\n",
       " '[giving samsung galaxys9 mobile participate neo giveaway]',\n",
       " '[samsung galaxy plus international giveaway]',\n",
       " '[samsung galaxy plus international giveaway giveaway]']"
      ]
     },
     "execution_count": 182,
     "metadata": {},
     "output_type": "execute_result"
    }
   ],
   "source": [
    "documents = []\n",
    "\n",
    "for i in english_originaltweets_clean:\n",
    "    documents.append(str(i).replace(\",\", \"\").replace(\"u'\",\"\").replace(\"'\", \"\"))\n",
    "\n",
    "documents[:5]"
   ]
  },
  {
   "cell_type": "code",
   "execution_count": 219,
   "metadata": {},
   "outputs": [
    {
     "data": {
      "text/html": [
       "<div>\n",
       "<style>\n",
       "    .dataframe thead tr:only-child th {\n",
       "        text-align: right;\n",
       "    }\n",
       "\n",
       "    .dataframe thead th {\n",
       "        text-align: left;\n",
       "    }\n",
       "\n",
       "    .dataframe tbody tr th {\n",
       "        vertical-align: top;\n",
       "    }\n",
       "</style>\n",
       "<table border=\"1\" class=\"dataframe\">\n",
       "  <thead>\n",
       "    <tr style=\"text-align: right;\">\n",
       "      <th></th>\n",
       "      <th>documents</th>\n",
       "      <th>Topic</th>\n",
       "    </tr>\n",
       "  </thead>\n",
       "  <tbody>\n",
       "    <tr>\n",
       "      <th>0</th>\n",
       "      <td>RT    Want to spend a longer time gazing at your boy   GalaxyS9</td>\n",
       "      <td>3.0000</td>\n",
       "    </tr>\n",
       "    <tr>\n",
       "      <th>1</th>\n",
       "      <td>Will you also  trow in the  GoliathComedyClub goody bag</td>\n",
       "      <td>0.0000</td>\n",
       "    </tr>\n",
       "    <tr>\n",
       "      <th>2</th>\n",
       "      <td>Samsung      you be stalking and talking shit about Samsung  but meanwhile enter a giveaway to get a free Sa</td>\n",
       "      <td>3.0000</td>\n",
       "    </tr>\n",
       "    <tr>\n",
       "      <th>3</th>\n",
       "      <td>is giving an awesome  Samsung  GalaxyS9 mobile  Participate NOW    neo  Giveaway  S9</td>\n",
       "      <td>2.0000</td>\n",
       "    </tr>\n",
       "    <tr>\n",
       "      <th>4</th>\n",
       "      <td>Samsung Galaxy S9 Plus international giveaway</td>\n",
       "      <td>2.0000</td>\n",
       "    </tr>\n",
       "  </tbody>\n",
       "</table>\n",
       "</div>"
      ],
      "text/plain": [
       "                                                                                                           documents  \\\n",
       "0                                            RT    Want to spend a longer time gazing at your boy   GalaxyS9           \n",
       "1                                                          Will you also  trow in the  GoliathComedyClub goody bag     \n",
       "2    Samsung      you be stalking and talking shit about Samsung  but meanwhile enter a giveaway to get a free Sa      \n",
       "3                             is giving an awesome  Samsung  GalaxyS9 mobile  Participate NOW    neo  Giveaway  S9     \n",
       "4                                                                   Samsung Galaxy S9 Plus international giveaway      \n",
       "\n",
       "   Topic  \n",
       "0 3.0000  \n",
       "1 0.0000  \n",
       "2 3.0000  \n",
       "3 2.0000  \n",
       "4 2.0000  "
      ]
     },
     "execution_count": 219,
     "metadata": {},
     "output_type": "execute_result"
    }
   ],
   "source": [
    "# finding highest value from each row\n",
    "toptopic = [max(collection, key=lambda x: x[1])[0] for collection in results]\n",
    "\n",
    "toptopic = pd.DataFrame(toptopic)\n",
    "documents = pd.DataFrame(documents)\n",
    "documents = documents.rename(columns = {0: 'documents'})\n",
    "summary = documents.join(toptopic)\n",
    "summary = summary.rename(columns = {0: 'Topic'})\n",
    "#summary[summary['Topic']==3].sample(frac=.1).head(10)\n",
    "summary.head()"
   ]
  },
  {
   "cell_type": "markdown",
   "metadata": {},
   "source": [
    "### The Most Popular Topics"
   ]
  },
  {
   "cell_type": "code",
   "execution_count": 188,
   "metadata": {},
   "outputs": [
    {
     "data": {
      "text/html": [
       "<div>\n",
       "<style>\n",
       "    .dataframe thead tr:only-child th {\n",
       "        text-align: right;\n",
       "    }\n",
       "\n",
       "    .dataframe thead th {\n",
       "        text-align: left;\n",
       "    }\n",
       "\n",
       "    .dataframe tbody tr th {\n",
       "        vertical-align: top;\n",
       "    }\n",
       "</style>\n",
       "<table border=\"1\" class=\"dataframe\">\n",
       "  <thead>\n",
       "    <tr style=\"text-align: right;\">\n",
       "      <th></th>\n",
       "      <th>documents</th>\n",
       "    </tr>\n",
       "    <tr>\n",
       "      <th>Topic</th>\n",
       "      <th></th>\n",
       "    </tr>\n",
       "  </thead>\n",
       "  <tbody>\n",
       "    <tr>\n",
       "      <th>2</th>\n",
       "      <td>979</td>\n",
       "    </tr>\n",
       "    <tr>\n",
       "      <th>1</th>\n",
       "      <td>586</td>\n",
       "    </tr>\n",
       "    <tr>\n",
       "      <th>0</th>\n",
       "      <td>552</td>\n",
       "    </tr>\n",
       "    <tr>\n",
       "      <th>3</th>\n",
       "      <td>505</td>\n",
       "    </tr>\n",
       "  </tbody>\n",
       "</table>\n",
       "</div>"
      ],
      "text/plain": [
       "       documents\n",
       "Topic           \n",
       "2            979\n",
       "1            586\n",
       "0            552\n",
       "3            505"
      ]
     },
     "execution_count": 188,
     "metadata": {},
     "output_type": "execute_result"
    }
   ],
   "source": [
    "summary.groupby(\"Topic\").count().sort_values(by='documents',ascending=False).head()"
   ]
  },
  {
   "cell_type": "markdown",
   "metadata": {},
   "source": [
    "* The most popular topic is Topic 2 which appears to be about a Samsung Galaxy giveaway.  \n",
    "* Topic 1 appears to be about Galaxy S9 video.  The slow motion video mode is a popular feature.\n",
    "* Topic 0 appears to be about Galaxy S9 compared to Huwaei P20 Pro phone. \n",
    "* Topic 3 appears to be about the Samsung Galaxy S9 popular AR Emoji feature.\n"
   ]
  },
  {
   "cell_type": "code",
   "execution_count": 190,
   "metadata": {},
   "outputs": [
    {
     "name": "stderr",
     "output_type": "stream",
     "text": [
      "C:\\ProgramData\\Anaconda3\\envs\\py27\\lib\\site-packages\\pyLDAvis\\_prepare.py:387: DeprecationWarning: \n",
      ".ix is deprecated. Please use\n",
      ".loc for label based indexing or\n",
      ".iloc for positional indexing\n",
      "\n",
      "See the documentation here:\n",
      "http://pandas.pydata.org/pandas-docs/stable/indexing.html#ix-indexer-is-deprecated\n",
      "  topic_term_dists = topic_term_dists.ix[topic_order]\n"
     ]
    }
   ],
   "source": [
    "import pyLDAvis.gensim\n",
    "pyLDAvis.enable_notebook()\n",
    "data = pyLDAvis.gensim.prepare(model, corpus, dictionary, sort_topics=False)\n",
    "#pyLDAvis.display(data, local=False)\n",
    "# Write to local file instead of direct display to avoid notebook formatting issues.\n",
    "pyLDAvis.save_html(data, 'data/lda_galaxys9.html')"
   ]
  },
  {
   "cell_type": "code",
   "execution_count": 191,
   "metadata": {},
   "outputs": [
    {
     "data": {
      "text/html": [
       "\n",
       "        <iframe\n",
       "            width=\"1220\"\n",
       "            height=\"860\"\n",
       "            src=\"data/lda_galaxys9.html\"\n",
       "            frameborder=\"0\"\n",
       "            allowfullscreen\n",
       "        ></iframe>\n",
       "        "
      ],
      "text/plain": [
       "<IPython.lib.display.IFrame at 0x934e59e8>"
      ]
     },
     "execution_count": 191,
     "metadata": {},
     "output_type": "execute_result"
    }
   ],
   "source": [
    "# Use IFrame to display pyLDAvis results to prevent pyLDAvis from overriding\n",
    "# other formatting of the Jupyter notebook\n",
    "from IPython.display import IFrame\n",
    "#IFrame('data/lda.html', width=1220, height=860)\n",
    "IFrame('data/lda_galaxys9.html', width=1220, height=860)\n",
    "\n"
   ]
  },
  {
   "cell_type": "markdown",
   "metadata": {},
   "source": [
    "* Remember that PyLDAVis starts numbering at 1, but our topic model numbers begin at 0.  Remember to subtract 1 from visualization to get actual  topic number.\n",
    "* There does apppear to be a significant amount of overlap between topics 0 (Galaxy S9 compared to Huwaei P20 Pro ) and 1 (Galaxy S9 video).  There is an article comparing the Huwaei P20 Pro and the Galaxy S9 with respect to their camera and video capabilities so this makes sense.\n",
    "* This visualization helps confirm that Topic 2 is about the phone giveaway and Topic 3 is about the AR Emoji feature.\n",
    "\n"
   ]
  },
  {
   "cell_type": "markdown",
   "metadata": {},
   "source": [
    "<a id='ca_4'></a>\n",
    "\n",
    "### 4. Sentiment Analysis"
   ]
  },
  {
   "cell_type": "markdown",
   "metadata": {},
   "source": [
    "#### Start by cleaning full_text of tweets"
   ]
  },
  {
   "cell_type": "code",
   "execution_count": 192,
   "metadata": {
    "collapsed": true
   },
   "outputs": [],
   "source": [
    "# Get full tweets and put in a list to process\n",
    "full_tweets=[]\n",
    "full_tweets=df_s9.text.tolist()"
   ]
  },
  {
   "cell_type": "code",
   "execution_count": 193,
   "metadata": {
    "collapsed": true
   },
   "outputs": [],
   "source": [
    "# Remove useless numbers and alphanumerical words including http     \n",
    "documents = [re.sub(\"(@[A-Za-z0-9]+)|([^0-9A-Za-z \\t])|(\\w+:\\/\\/\\S+)\", \" \", text) for text in full_tweets]\n",
    "# tokenize\n",
    "texts = [[word for word in text.lower().split() ] for text in documents]\n",
    "# stemming words: having --> have; friends --> friend\n",
    "lmtzr = WordNetLemmatizer()\n",
    "texts = [[lmtzr.lemmatize(word) for word in text ] for text in texts]\n",
    "# remove common words \n",
    "stoplist = stopwords.words('english')\n",
    "texts = [[word for word in text if word not in stoplist] for text in texts]\n",
    "#remove short words\n",
    "cleaned_tweet_lists = [[ word for word in tokens if len(word) >= 3 ] for tokens in texts]"
   ]
  },
  {
   "cell_type": "code",
   "execution_count": 194,
   "metadata": {
    "collapsed": true
   },
   "outputs": [],
   "source": [
    "cleaned_tweets=[]\n",
    "for i in cleaned_tweet_lists:\n",
    "    cleaned_tweets.append( ' '.join(i))\n",
    "    \n",
    "cleaned_tweets    \n",
    "\n",
    "df_s9['clean_tweets']=pd.DataFrame(cleaned_tweets)"
   ]
  },
  {
   "cell_type": "code",
   "execution_count": 195,
   "metadata": {
    "collapsed": true
   },
   "outputs": [],
   "source": [
    "# Calculate sentiment polarity and subjectivity and store in new dataframe columns\n",
    "df_s9[['polarity', 'subjectivity']] = df_s9['clean_tweets'].apply(lambda arttext: pd.Series(TextBlob(arttext).sentiment) )"
   ]
  },
  {
   "cell_type": "code",
   "execution_count": 196,
   "metadata": {},
   "outputs": [
    {
     "data": {
      "text/html": [
       "<div>\n",
       "<style>\n",
       "    .dataframe thead tr:only-child th {\n",
       "        text-align: right;\n",
       "    }\n",
       "\n",
       "    .dataframe thead th {\n",
       "        text-align: left;\n",
       "    }\n",
       "\n",
       "    .dataframe tbody tr th {\n",
       "        vertical-align: top;\n",
       "    }\n",
       "</style>\n",
       "<table border=\"1\" class=\"dataframe\">\n",
       "  <thead>\n",
       "    <tr style=\"text-align: right;\">\n",
       "      <th></th>\n",
       "      <th>text</th>\n",
       "      <th>polarity</th>\n",
       "      <th>subjectivity</th>\n",
       "    </tr>\n",
       "  </thead>\n",
       "  <tbody>\n",
       "    <tr>\n",
       "      <th>0</th>\n",
       "      <td>RT @SamsungMobile: Want to spend a longer time gazing at your boy? #GalaxyS9 📷: @Dodo https://t.co/fF3ys2SUwi</td>\n",
       "      <td>0.0000</td>\n",
       "      <td>0.0000</td>\n",
       "    </tr>\n",
       "    <tr>\n",
       "      <th>1</th>\n",
       "      <td>Will you also #trow in the #GoliathComedyClub goody bag https://t.co/iEjsc96T0C</td>\n",
       "      <td>0.0000</td>\n",
       "      <td>0.0000</td>\n",
       "    </tr>\n",
       "    <tr>\n",
       "      <th>2</th>\n",
       "      <td>@Boycott_Samsung 😆😂 you be stalking and talking shit about Samsung, but meanwhile enter a giveaway to get a free Sa… https://t.co/ACVlLMevQj</td>\n",
       "      <td>0.1000</td>\n",
       "      <td>0.8000</td>\n",
       "    </tr>\n",
       "    <tr>\n",
       "      <th>3</th>\n",
       "      <td>https://t.co/KfFMi1qxoi is giving an awesome #Samsung #GalaxyS9 mobile. Participate NOW! @shubham_neo #Giveaway #S9 https://t.co/ifXXLjZM7f</td>\n",
       "      <td>1.0000</td>\n",
       "      <td>1.0000</td>\n",
       "    </tr>\n",
       "    <tr>\n",
       "      <th>4</th>\n",
       "      <td>Samsung Galaxy S9 Plus international giveaway! https://t.co/JDzPykkWcZ</td>\n",
       "      <td>0.0000</td>\n",
       "      <td>0.0000</td>\n",
       "    </tr>\n",
       "    <tr>\n",
       "      <th>5</th>\n",
       "      <td>Samsung Galaxy S9 Plus international giveaway @androidauth #giveaway https://t.co/dkDMIFRd17</td>\n",
       "      <td>0.0000</td>\n",
       "      <td>0.0000</td>\n",
       "    </tr>\n",
       "    <tr>\n",
       "      <th>6</th>\n",
       "      <td>I'm Switching To The Samsung Galaxy S9 https://t.co/WZzoZHA6Xl via @YouTube</td>\n",
       "      <td>0.0000</td>\n",
       "      <td>0.0000</td>\n",
       "    </tr>\n",
       "    <tr>\n",
       "      <th>7</th>\n",
       "      <td>RT @Samsung: How simple gestures can become meaningful actions #GalaxyS9 #Intuitive #UX\\nhttps://t.co/XmAq4hOutE</td>\n",
       "      <td>0.2000</td>\n",
       "      <td>0.3190</td>\n",
       "    </tr>\n",
       "    <tr>\n",
       "      <th>8</th>\n",
       "      <td>Samsung Galaxy S9 Hype Dies Down In Just One Month Opinion. [https://t.co/g4wrb5Jygy] https://t.co/Q4ZZAVUr1V</td>\n",
       "      <td>0.0000</td>\n",
       "      <td>0.0000</td>\n",
       "    </tr>\n",
       "    <tr>\n",
       "      <th>9</th>\n",
       "      <td>I liked a @YouTube video https://t.co/fPKhuQrQtK Galaxy S9 &amp;amp; S9 Plus: All You Need to Know (2 MONTHS LATER)</td>\n",
       "      <td>0.3000</td>\n",
       "      <td>0.4000</td>\n",
       "    </tr>\n",
       "  </tbody>\n",
       "</table>\n",
       "</div>"
      ],
      "text/plain": [
       "                                                                                                                                             text  \\\n",
       "0                                  RT @SamsungMobile: Want to spend a longer time gazing at your boy? #GalaxyS9 📷: @Dodo https://t.co/fF3ys2SUwi   \n",
       "1                                                                 Will you also #trow in the #GoliathComedyClub goody bag https://t.co/iEjsc96T0C   \n",
       "2  @Boycott_Samsung 😆😂 you be stalking and talking shit about Samsung, but meanwhile enter a giveaway to get a free Sa… https://t.co/ACVlLMevQj   \n",
       "3     https://t.co/KfFMi1qxoi is giving an awesome #Samsung #GalaxyS9 mobile. Participate NOW! @shubham_neo #Giveaway #S9 https://t.co/ifXXLjZM7f   \n",
       "4                                                                          Samsung Galaxy S9 Plus international giveaway! https://t.co/JDzPykkWcZ   \n",
       "5                                                    Samsung Galaxy S9 Plus international giveaway @androidauth #giveaway https://t.co/dkDMIFRd17   \n",
       "6                                                                     I'm Switching To The Samsung Galaxy S9 https://t.co/WZzoZHA6Xl via @YouTube   \n",
       "7                                RT @Samsung: How simple gestures can become meaningful actions #GalaxyS9 #Intuitive #UX\\nhttps://t.co/XmAq4hOutE   \n",
       "8                                   Samsung Galaxy S9 Hype Dies Down In Just One Month Opinion. [https://t.co/g4wrb5Jygy] https://t.co/Q4ZZAVUr1V   \n",
       "9                                 I liked a @YouTube video https://t.co/fPKhuQrQtK Galaxy S9 &amp; S9 Plus: All You Need to Know (2 MONTHS LATER)   \n",
       "\n",
       "   polarity  subjectivity  \n",
       "0    0.0000        0.0000  \n",
       "1    0.0000        0.0000  \n",
       "2    0.1000        0.8000  \n",
       "3    1.0000        1.0000  \n",
       "4    0.0000        0.0000  \n",
       "5    0.0000        0.0000  \n",
       "6    0.0000        0.0000  \n",
       "7    0.2000        0.3190  \n",
       "8    0.0000        0.0000  \n",
       "9    0.3000        0.4000  "
      ]
     },
     "execution_count": 196,
     "metadata": {},
     "output_type": "execute_result"
    }
   ],
   "source": [
    "df_s9[['text','polarity','subjectivity']].head(10)"
   ]
  },
  {
   "cell_type": "markdown",
   "metadata": {},
   "source": [
    "### Sentiment Analysis Summary"
   ]
  },
  {
   "cell_type": "code",
   "execution_count": 235,
   "metadata": {
    "scrolled": true
   },
   "outputs": [
    {
     "name": "stdout",
     "output_type": "stream",
     "text": [
      "There are 1006 tweets with positive polarity\n",
      "There are 248 tweets with negative polarity\n",
      "There are 1384 tweets with neutral polarity\n",
      "That's 38.1% positive and only 9.4% negative\n"
     ]
    }
   ],
   "source": [
    "# Exclude ReTweets, exclude tweets\n",
    "df_pos=df_s9[ (~df_s9.text.str.startswith('RT @'))&\n",
    "          (df_s9.polarity>0)][['text','mentions','screen_name','hashtags','polarity','subjectivity']].sort_values(by=['polarity'],ascending=True)\n",
    "df_neg=df_s9[ (~df_s9.text.str.startswith('RT @'))&\n",
    "          (df_s9.polarity<0)][['text','mentions','screen_name','hashtags','polarity','subjectivity']].sort_values(by=['polarity'],ascending=True)\n",
    "df_neut=df_s9[ (~df_s9.text.str.startswith('RT @'))&\n",
    "          (df_s9.polarity==0)][['text','mentions','screen_name','hashtags','polarity','subjectivity']].sort_values(by=['polarity'],ascending=True)\n",
    "total=len(df_pos)+len(df_neg)+len(df_neut)\n",
    "print \"There are %s tweets with positive polarity\" %len(df_pos)\n",
    "print \"There are %s tweets with negative polarity\" %len(df_neg)\n",
    "print \"There are %s tweets with neutral polarity\" %len(df_neut)\n",
    "print \"That's %.1f%% positive and only %.1f%% negative\" %((100.0*len(df_pos)/total), (100.0*len(df_neg)/total))\n"
   ]
  },
  {
   "cell_type": "markdown",
   "metadata": {},
   "source": [
    "<a id='galaxy_na'></a>\n",
    "## Galaxy S9 Network Analytics"
   ]
  },
  {
   "cell_type": "markdown",
   "metadata": {},
   "source": [
    "### Mention Network"
   ]
  },
  {
   "cell_type": "code",
   "execution_count": 198,
   "metadata": {
    "collapsed": true
   },
   "outputs": [],
   "source": [
    "# Get screen_names from dataframe and put into list\n",
    "l1=df_s9.screen_name.tolist()\n",
    "# Get mentions from dataframe and put into list\n",
    "l2=df_s9.mentions.tolist()\n",
    "\n",
    "# Zip the listsa\n",
    "tupo= zip(l1,l2)"
   ]
  },
  {
   "cell_type": "code",
   "execution_count": 199,
   "metadata": {},
   "outputs": [
    {
     "data": {
      "text/plain": [
       "[(u'CROCMarkt', [u'SamsungMobile', u'dodo']),\n",
       " (u'Maradalona', None),\n",
       " (u'johnmaked', [u'Boycott_Samsung']),\n",
       " (u'SundstromKami', [u'shubham_neo']),\n",
       " (u'realmeateater', None)]"
      ]
     },
     "execution_count": 199,
     "metadata": {},
     "output_type": "execute_result"
    }
   ],
   "source": [
    "#Preview zipped list\n",
    "tupo[:5]"
   ]
  },
  {
   "cell_type": "code",
   "execution_count": 200,
   "metadata": {
    "collapsed": true
   },
   "outputs": [],
   "source": [
    "# Now create mention network file for Gephi\n",
    "openfile = open(\"data/galaxys9_mentionnetwork.csv\", \"wb\")\n",
    "\n",
    "w = csv.writer(openfile)\n",
    "\n",
    "for i in tupo:\n",
    "    if i[1]:\n",
    "        for j in i[1]:\n",
    "            #print i[0],j\n",
    "            w.writerow([i[0], j])\n",
    "\n",
    "openfile.close()"
   ]
  },
  {
   "cell_type": "markdown",
   "metadata": {},
   "source": [
    "<a id='na_1'></a>\n",
    "\n",
    "### Galaxy S9 Topological analysis (Mention network)\n",
    "* The average path length (average geodesic distance): **2.75**\n",
    "* Network diameter (maximum Geodesic Distance):  **8**\n",
    "* This indicates that users are an average of 2.75 edges away from each other, with a maximum distance of 8.\n",
    "* Looking at the network plot, we can see many small, orphaned clusters.  While they used the #galaxys9 or #samsungs9 hashtags in their tweets, they did not mention the more central, frquently mentioned users such as SamsungMobileSA, DonovanGoliath, SamsungMobile, or SamsungMobileIN.\n",
    "* This is a sparse network with graph density was 0.001.  There are many connections out from a few central figures, but not a large number of interconnections.\n",
    "\n",
    "\n"
   ]
  },
  {
   "cell_type": "markdown",
   "metadata": {},
   "source": [
    "<img src=\"data/galaxys9_mentionnetwork.svg\">"
   ]
  },
  {
   "cell_type": "markdown",
   "metadata": {},
   "source": [
    "<a id='na_2'></a>\n",
    "\n",
    "### Galaxy S9 Centrality Analysis (Mention network)\n",
    "   \n",
    "1. Based upon degree centrality, the most influential is:\n",
    "   * **DonovanGoliath** - a comedian who appears to be promoting Galaxy S9 and uses AR Emojis in his Twitter feed.\n",
    "   * **SamsungMobileSA** - Samsung Mobile South Africa (DonovanGoliath's location)\n",
    "   * **corninggorilla** - Gorilla Glass manufacturer\n",
    "2. Based upon Eigenvector centrality, the most influential is **DonovanGoliath, SamsungMobileSA, corninggorilla**.\n",
    "3. Based upon Betweenness centrality, the most influential is **SamsungMobileSA, DonovanGoliath, LuXx_SA(photographer)**.\n",
    "\n"
   ]
  },
  {
   "cell_type": "markdown",
   "metadata": {},
   "source": [
    "### Galaxy S9 Co-Hashtag Network Analysis - Original Tweets"
   ]
  },
  {
   "cell_type": "code",
   "execution_count": 201,
   "metadata": {
    "collapsed": true
   },
   "outputs": [],
   "source": [
    "datas = []\n",
    "for i in english_originaltweets:\n",
    "    data = re.sub(\"[^a-zA-Z0-9#]+\", \" \", i)\n",
    "    hashtag = re.findall(r\"(?<=#)\\w+\", str(data).lower())\n",
    "    datas.append(hashtag)\n"
   ]
  },
  {
   "cell_type": "code",
   "execution_count": 202,
   "metadata": {},
   "outputs": [
    {
     "data": {
      "text/plain": [
       "[['trow', 'goliathcomedyclub'],\n",
       " [],\n",
       " ['samsung', 'galaxys9', 'giveaway', 's9'],\n",
       " [],\n",
       " ['giveaway']]"
      ]
     },
     "execution_count": 202,
     "metadata": {},
     "output_type": "execute_result"
    }
   ],
   "source": [
    "datas[:5]"
   ]
  },
  {
   "cell_type": "markdown",
   "metadata": {},
   "source": [
    "#### Create node list for network"
   ]
  },
  {
   "cell_type": "code",
   "execution_count": 203,
   "metadata": {},
   "outputs": [
    {
     "data": {
      "text/plain": [
       "[('trow', 'goliathcomedyclub'),\n",
       " ('samsung', 'galaxys9'),\n",
       " ('samsung', 'giveaway'),\n",
       " ('samsung', 's9'),\n",
       " ('galaxys9', 'giveaway'),\n",
       " ('galaxys9', 's9'),\n",
       " ('giveaway', 's9'),\n",
       " ('sony', 'galaxys9'),\n",
       " ('sony', 'huaweip20pro'),\n",
       " ('sony', 'android')]"
      ]
     },
     "execution_count": 203,
     "metadata": {},
     "output_type": "execute_result"
    }
   ],
   "source": [
    "from itertools import combinations\n",
    "cohashtags = [x for d in datas for x in combinations(d, 2)]\n",
    "cohashtags[:10]"
   ]
  },
  {
   "cell_type": "code",
   "execution_count": 204,
   "metadata": {},
   "outputs": [
    {
     "data": {
      "text/plain": [
       "1696"
      ]
     },
     "execution_count": 204,
     "metadata": {},
     "output_type": "execute_result"
    }
   ],
   "source": [
    "len(cohashtags)"
   ]
  },
  {
   "cell_type": "markdown",
   "metadata": {},
   "source": [
    "#### Write co-hastag node list to file"
   ]
  },
  {
   "cell_type": "code",
   "execution_count": 205,
   "metadata": {
    "collapsed": true
   },
   "outputs": [],
   "source": [
    "#for cohashtag analysis\n",
    "outfile = open(\"data/galaxys9_cohashtag_network.csv\", \"wb\")\n",
    "w = csv.writer(outfile)\n",
    "for i in cohashtags:\n",
    "    w.writerow(i)    \n",
    "outfile.close()"
   ]
  },
  {
   "cell_type": "markdown",
   "metadata": {},
   "source": [
    "### Galaxy S9 Centrality Analysis (Co-Hashtag network)\n",
    "\n",
    "1. Based upon weighted degree centrality, the most influential hashtags are **#galaxys9, #aremoji, #getagalaxys9, #samsung, #giveaway**.\n",
    "2. Based upon Eigenvector centrality, the most influential hashtags are **#galaxys9, #samsung, #samsungs9, #android, #galaxys9plus**.\n",
    "3. Based upon Betweenness centrality, the most influential are **#galaxys9, #samsung, #android, #samsungs9, #contest**.\n",
    "\n"
   ]
  },
  {
   "cell_type": "markdown",
   "metadata": {},
   "source": [
    "<img src=\"data/galaxys9_cohashtagnetwork.svg\">"
   ]
  },
  {
   "cell_type": "markdown",
   "metadata": {},
   "source": [
    "### Galaxy S9 Clustering Analysis (Co-Hashtag network)\n",
    "* The largest cluster is associated with #galaxys9.  This cluster also includes #aremoji, #getagalaxys9, #captionthiswithdonovangoliath (familiar figure from the mention network).  In terms of a topic, it appears to be about the AREmoji feature and promoting the Galaxy S9.\n",
    "* The second largest cluster is associated with #samsung.  The topic appears to be about Galaxy S9 giveaways.\n",
    "* The third largest cluster is associated with #tech.  The topic appears to be about technology, Galaxy S9, and Android. \n"
   ]
  },
  {
   "cell_type": "markdown",
   "metadata": {
    "collapsed": true
   },
   "source": [
    "<a id='Final_Analysis'></a>\n",
    "## Final Analysis\n",
    "\n",
    "\n",
    "\n"
   ]
  },
  {
   "cell_type": "markdown",
   "metadata": {
    "collapsed": true
   },
   "source": [
    "Based on the data collected and our analysis, there are some distinct differences and similarities between users who tweet about iPhone X and the Galaxy S9.\n",
    "\n",
    "#### Differences:\n",
    "* In the dataset, 74.9% of the tweets were about iPhone X, with only 23.1% about Samsung Galaxy S9.  While the worldwide mobile market share is higher for Samsung at 21.9% compared to 15.2% for Apple (http://fortune.com/2018/02/13/apple-iphone-samsung-market-share/), there were 3 times as many tweets about iPhone X than the Galaxy S9.  \n",
    "\n",
    "* After English it appears that iPhone X is more popular within the Japanese, Tagalog(Phillipines), and Portuguese languages, but the Galaxy S9 is more popular with Portuguese, French and Spanish languages.\n",
    "\n",
    "* Comparing tweet sentiment:\n",
    "   *  There is 47% positive, 5.3% negative, and 47.8% neutral tweet sentiment for iPhone X\n",
    "   *  There is 38.1% positive, 9.4% negative, and 52.5% neutral tweet sentiment for Galaxy S9.\n",
    "* Tweet Metrics Comparison:\n",
    "    * Retweet % (Retweets / Total Tweets) is higher among iPhone X (60%) users that Galaxy S9 (31.4%)\n",
    "    * Original Tweet % (Original Tweets / Total Tweets) is higher among Galaxy S9 (68.5) users vs iPhone X users (39.6%)\n",
    "    * Tweets from unique users (Total Tweets / Unique Users) was higher among iPhone X users (81.1%) vs Galaxy S9 users (67.3%)\n",
    "    * Avg. Tweets per User was higher with the Galaxy S9 (1.48/Tweet) vs iPhone X users (1.22/Tweet)\n",
    "    * Avg. Hashtags per Tweet was much higher with the Galaxy S9 (0.78/Tweet) vs vs iPhone X users (0.27/Tweet)\n",
    "    * Avg. Mentions per Tweet was also higher with the Galaxy S9 (0.91/Tweet) vs vs iPhone X users (0.85/Tweet)\n",
    "    * Avg. URLs per Tweet was much higher with the Galaxy S9 (1.415/Tweet) vs vs iPhone X users (0.18/Tweet)\n",
    "    \n",
    "\n",
    "#### Similarities:\n",
    "* There seems to be a lot of tweets about iPhone X and Galaxy S9 giveaways.  It would be interesting to study this further to determine if these giveaways are legitimate or some type of scam.\n",
    "\n",
    "* From hashtag analysis, topic modelling, and network analysis, both iPhone X and Galaxy S9 phones are popular for photography.  \n",
    "\n",
    "* Augmented reality features such as iPhone X's Animoji and Galaxy S9's AR Emoji are popular features.\n",
    "\n",
    "* There was only one user mention overlap from the top 10 of each of the lists. @Youtube was on both lists, #7 on iPhone X and #2 on Galaxy S9\n",
    "\n",
    "* Only one word overlapped on word frequency from the two lists.  \"giveaway\" was on on both top 10 lists at #2 on iPhone X and #4 on Galaxy S9.\n",
    "\n",
    "* Similarly, the hashtag \"#giveaway\" was the only overlapping hashtag on both lists.  It was #5 on iPhone X list and #2 on the Galaxy S9 list.\n",
    "\n",
    "#### Insight:\n",
    "* Based upon tweet volume and sentiment, there appears to be more enthusiasm for iPhone X than the Galaxy S9.  There were 3 times as many tweets about the iPhone X than the Galaxy S9 even though Samsung has a larger market share.  Also, tweets about iPhone X had more positive sentiment than tweets about Galaxy S9.\n",
    "* Smart phones are much more than just phones to users.  From hashtag analysis and topic modelling, these phones are used for creating and capturing memories through photography, videos, and augmented reality (Animoji & AR Emoji).\n",
    "* Both topics commonly share youtube videos as evidenced by the user mentioning.\n",
    "* Galaxy S9 Users more commonly use hashtags, do more user mentions and include more URLs than iPhone X users\n",
    "\n",
    "#### Recommendations:\n",
    "\n"
   ]
  },
  {
   "cell_type": "code",
   "execution_count": null,
   "metadata": {
    "collapsed": true
   },
   "outputs": [],
   "source": []
  },
  {
   "cell_type": "code",
   "execution_count": null,
   "metadata": {
    "collapsed": true
   },
   "outputs": [],
   "source": []
  },
  {
   "cell_type": "code",
   "execution_count": null,
   "metadata": {
    "collapsed": true
   },
   "outputs": [],
   "source": []
  },
  {
   "cell_type": "code",
   "execution_count": null,
   "metadata": {
    "collapsed": true
   },
   "outputs": [],
   "source": []
  }
 ],
 "metadata": {
  "kernelspec": {
   "display_name": "Python 2",
   "language": "python",
   "name": "python2"
  },
  "language_info": {
   "codemirror_mode": {
    "name": "ipython",
    "version": 2
   },
   "file_extension": ".py",
   "mimetype": "text/x-python",
   "name": "python",
   "nbconvert_exporter": "python",
   "pygments_lexer": "ipython2",
   "version": "2.7.14"
  }
 },
 "nbformat": 4,
 "nbformat_minor": 2
}
